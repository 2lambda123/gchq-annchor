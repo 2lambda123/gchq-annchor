{
 "cells": [
  {
   "cell_type": "code",
   "execution_count": 1,
   "metadata": {},
   "outputs": [
    {
     "name": "stdout",
     "output_type": "stream",
     "text": [
      "ncuiojfanssruogqkshnfxxprvojrdttjiukneoeamhlkkymvxllovhujdiwdxlvrpsugdrqufzhjqsl...\n",
      "vuibwocnosugldwsbxtxddpzrvojrgtutjiaufefamhsflkyvklpqvyhndiwdxxlvhrfrqvfzglfpnba...\n",
      "cuiojfsosugdwsjxxpgjffnuuttjiaunknenxmmhljkklaimvolwvhjdwdlvrpslrqupfzhnglbwnnbh...\n",
      "aciwcmomzflwzeskaptzwadcuyepovxdreytovrnzbgqyxoaaohmhoafqcsyjapkbsqrorinygsyodtu...\n",
      "wcytocmfcsuvwvskptzdyeojkwdidrcwbovnbgpxpayjdwjhbfqcsydabqkzdgsqyorilnygisdsvdyt...\n",
      "vuijuduxdhdwjesvvwfdwwhpsygrshchxcgnmtgviubjfybvzjtmtueellwfidzlomkfgrbidbamknir...\n",
      "iejmbuguxahesvvwdgyasygrztckxcsgkrmtuvubjqjlzmueallwljjdqzlolcmkfglwrnebbidtakfy...\n",
      "vzikmbjcuxkghdjexsvvwbwgyaxnsyrzhkxcglmtqvibjvqvyzjybuealfjdqelomkifkplbadtamyij...\n",
      "yhmksxkbemmebhfdgktakkjjtoccnicxgarqjxuoraitooebaiqybofswgnyjmuuyiiqalbmvsgywvkj...\n",
      "ojdmctzjxkezbwhdugkkkjjztbxnrzsxsravbooebaiyocwgzyluywiiaegljosukjziztvujbakfgcr...\n",
      "tyizotyywjzdpwzodfurcyltqgurkebzbyoyppipnqlnrluutdovsygaboctfbwqixcaetcdalfgsayo...\n",
      "teoftbykwomdftpzodvznqyltazremyypypapynqtzqnrqtmutdshebkboctwwfbwwtcbeactwcbyqzf...\n",
      "tyobftbfjdpdoezrqytaqrhrezzayopypdeybnrkcmcqdhrolvsbgabocwwfsfwwqatxbyalfjsaypow...\n",
      "udopggholihsqasmgmnbuegijeltocxshfanejiqotgmqzxvvvehtlonbqdupmfyfrppmahoeqzhxpvk...\n",
      "usfbdgmmdimhyzewplonoxownzxhwbomzeuizwqozfsqkqwvstuvmpgzbhmeqoszbusqsjjndmgmbbzd...\n",
      "dfgxsltkbpxvgqptghjnkaoofbqqdnqlbbzsqubtfwovkbkgcksflymhsptpyepoaryapgermrheclst...\n",
      "jwlamegvepeyxfttrdtpcfwpszgiffwonrgmtjwnovmgvvkpadsevigyneymhefvuxryfhkhcwerthkx...\n",
      "zjhhapwmyhcctmbdcvnbuoptiojhjvpgxkvbekxottmflpmejkuaqacsjloeznbkfgxrawgkssuiyhuv...\n",
      "ecginnkqplpvmdrahtkmpqzukubsjmqgwtxlbtoifqvtagqrnezjaekkclvrlnygsrvuhlgdvxyiydto...\n",
      "xevzshhxvppadutzhpkbarqswsdjrxhxumlufxkeeluhplyuyepxlsadjqydnjtzshiubxomrlvpxyxf...\n"
     ]
    }
   ],
   "source": [
    "import numpy as np\n",
    "import time\n",
    "import Levenshtein as lev\n",
    "import os\n",
    "from annchor.datasets import load_strings\n",
    "from annchor import compare_neighbor_graphs\n",
    "from matplotlib import pyplot as plt\n",
    "\n",
    "\n",
    "\n",
    "\n",
    "k=15\n",
    "\n",
    "def levdist(a,b):\n",
    "    return lev.distance(a,b)\n",
    "\n",
    "strings_data = load_strings()\n",
    "X = strings_data['X']\n",
    "y = strings_data['y']\n",
    "neighbor_graph = strings_data['neighbor_graph']\n",
    "\n",
    "nx = X.shape[0]\n",
    "\n",
    "for x in X[2::80]:\n",
    "    print(x[:80]+'...')\n",
    "    "
   ]
  },
  {
   "cell_type": "code",
   "execution_count": 5,
   "metadata": {},
   "outputs": [
    {
     "name": "stdout",
     "output_type": "stream",
     "text": [
      "ANNchor Time: 32.135 seconds\n",
      "ANNchor Accuracy: 608 incorrect NN pairs (2.533%)\n",
      "ANNchor Evals: 153504 function calls (12.000% of brute force)\n"
     ]
    }
   ],
   "source": [
    "from annchor import Annchor\n",
    "\n",
    "start_time = time.time()\n",
    "ann = Annchor(X,\n",
    "              levdist,\n",
    "              n_anchors=30,\n",
    "              n_neighbors=k,\n",
    "              random_seed=5,\n",
    "              n_samples=5000,\n",
    "              refine_cycles=1,\n",
    "              p_work=0.12)\n",
    "\n",
    "\n",
    "ann.fit()\n",
    "\n",
    "print('ANNchor Time: %5.3f seconds' % (time.time()-start_time))\n",
    "\n",
    "\n",
    "## Test accuracy\n",
    "error = compare_neighbor_graphs(neighbor_graph,\n",
    "                                ann.neighbor_graph,\n",
    "                                k)\n",
    "print('ANNchor Accuracy: %d incorrect NN pairs (%5.3f%%)' % (error,100*error/(k*nx)))\n",
    "print('ANNchor Evals: %d function calls (%5.3f%% of brute force)' % (ann.evals,\n",
    "                                                       100*ann.evals/(ann.nx*(ann.nx-1)/2)\n",
    "                                                      )\n",
    "     )\n",
    "\n",
    "##"
   ]
  },
  {
   "cell_type": "code",
   "execution_count": 6,
   "metadata": {},
   "outputs": [
    {
     "name": "stdout",
     "output_type": "stream",
     "text": [
      "ANNchor Time: 38.372 seconds\n",
      "ANNchor Accuracy: 925 incorrect NN pairs (3.854%)\n",
      "ANNchor Evals: 153504 function calls (12.000% of brute force)\n"
     ]
    }
   ],
   "source": [
    "from annchor import Annchor\n",
    "from annchor.components import MaxBoundAnchorPicker\n",
    "\n",
    "\n",
    "start_time = time.time()\n",
    "ann = Annchor(X,\n",
    "              levdist,\n",
    "              n_anchors=30,\n",
    "              n_neighbors=k,\n",
    "              random_seed=5,\n",
    "              n_samples=5000,\n",
    "              refine_cycles=1,\n",
    "              p_work=0.12,\n",
    "             anchor_picker=MaxBoundAnchorPicker())\n",
    "\n",
    "\n",
    "ann.fit()\n",
    "\n",
    "print('ANNchor Time: %5.3f seconds' % (time.time()-start_time))\n",
    "\n",
    "\n",
    "## Test accuracy\n",
    "error = compare_neighbor_graphs(neighbor_graph,\n",
    "                                ann.neighbor_graph,\n",
    "                                k)\n",
    "print('ANNchor Accuracy: %d incorrect NN pairs (%5.3f%%)' % (error,100*error/(k*nx)))\n",
    "print('ANNchor Evals: %d function calls (%5.3f%% of brute force)' % (ann.evals,\n",
    "                                                       100*ann.evals/(ann.nx*(ann.nx-1)/2)\n",
    "                                                      )\n",
    "     )\n",
    "\n",
    "##"
   ]
  },
  {
   "cell_type": "code",
   "execution_count": null,
   "metadata": {},
   "outputs": [],
   "source": []
  }
 ],
 "metadata": {
  "kernelspec": {
   "display_name": "Python 3",
   "language": "python",
   "name": "python3"
  },
  "language_info": {
   "codemirror_mode": {
    "name": "ipython",
    "version": 3
   },
   "file_extension": ".py",
   "mimetype": "text/x-python",
   "name": "python",
   "nbconvert_exporter": "python",
   "pygments_lexer": "ipython3",
   "version": "3.8.2"
  }
 },
 "nbformat": 4,
 "nbformat_minor": 4
}
