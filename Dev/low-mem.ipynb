{
 "cells": [
  {
   "cell_type": "code",
   "execution_count": 1,
   "metadata": {},
   "outputs": [],
   "source": [
    "import numpy as np\n",
    "from matplotlib import pyplot as plt\n",
    "from mpl_toolkits.axes_grid1 import make_axes_locatable\n",
    "from sklearn import datasets\n",
    "import umap\n",
    "from tqdm.notebook import tqdm as tq\n",
    "import time\n",
    "from mpl_toolkits.axes_grid1 import make_axes_locatable\n",
    "from distances import wasserstein"
   ]
  },
  {
   "cell_type": "code",
   "execution_count": 2,
   "metadata": {},
   "outputs": [],
   "source": [
    "import anchoring\n",
    "from numba import njit,prange\n",
    "from anchoring import get_approx_njit_ij,lrf"
   ]
  },
  {
   "cell_type": "code",
   "execution_count": 3,
   "metadata": {},
   "outputs": [
    {
     "data": {
      "text/plain": [
       "26955"
      ]
     },
     "execution_count": 3,
     "metadata": {},
     "output_type": "execute_result"
    }
   ],
   "source": [
    "15*1797"
   ]
  },
  {
   "cell_type": "code",
   "execution_count": 4,
   "metadata": {},
   "outputs": [
    {
     "data": {
      "text/plain": [
       "1613706"
      ]
     },
     "execution_count": 4,
     "metadata": {},
     "output_type": "execute_result"
    }
   ],
   "source": [
    "x = datasets.load_digits()['data']\n",
    "im = datasets.load_digits()['images']\n",
    "y = datasets.load_digits()['target']\n",
    "ix = np.argsort(y)\n",
    "\n",
    "x = x[ix]\n",
    "im = im[ix]\n",
    "y = y[ix]\n",
    "\n",
    "nx=x.shape[0]\n",
    "N=nx*(nx-1)//2\n",
    "n_neighbors=15\n",
    "N"
   ]
  },
  {
   "cell_type": "code",
   "execution_count": null,
   "metadata": {},
   "outputs": [],
   "source": []
  },
  {
   "cell_type": "code",
   "execution_count": 5,
   "metadata": {},
   "outputs": [],
   "source": [
    "Exact = np.load('exact_wasserstein.npz')['arr_0']\n"
   ]
  },
  {
   "cell_type": "code",
   "execution_count": null,
   "metadata": {},
   "outputs": [],
   "source": []
  },
  {
   "cell_type": "code",
   "execution_count": 6,
   "metadata": {},
   "outputs": [
    {
     "name": "stdout",
     "output_type": "stream",
     "text": [
      "224 µs ± 35 µs per loop (mean ± std. dev. of 7 runs, 1 loop each)\n"
     ]
    }
   ],
   "source": [
    "%timeit wasserstein(x[0],x[1])"
   ]
  },
  {
   "cell_type": "code",
   "execution_count": 7,
   "metadata": {},
   "outputs": [
    {
     "name": "stdout",
     "output_type": "stream",
     "text": [
      "get_anchors: 13.552888870239258\n",
      "get_approx: 16.660996675491333\n",
      "refine_approx: 33.72299289703369\n",
      "refine_part_two: 34.403690814971924\n"
     ]
    }
   ],
   "source": [
    "\n",
    "start = time.time()\n",
    "anchorBounder = anchoring.AnchorBounder(x,\n",
    "                                        wasserstein,\n",
    "                                        n_anchors=30,\n",
    "                                        n_neighbors=15,\n",
    "                                        min_prob=0.1,\n",
    "                                        max_checks=300,\n",
    "                                        random_seed=0,\n",
    "                                        regression_sample_size=4000,\n",
    "                                        splits=4)\n",
    "\n",
    "\n",
    "anchorBounder.get_anchors()\n",
    "print('get_anchors:', time.time()-start)\n",
    "\n",
    "anchorBounder.get_approx()\n",
    "print('get_approx:', time.time()-start)\n",
    "\n",
    "anchorBounder.refine_approx()\n",
    "print('refine_approx:', time.time()-start)\n",
    "\n",
    "anchorBounder.refine_part_two()\n",
    "print('refine_part_two:', time.time()-start)\n",
    "\n"
   ]
  },
  {
   "cell_type": "code",
   "execution_count": 8,
   "metadata": {},
   "outputs": [
    {
     "data": {
      "image/png": "[encoded data removed]",
      "text/plain": [
       "<Figure size 432x288 with 1 Axes>"
      ]
     },
     "metadata": {},
     "output_type": "display_data"
    }
   ],
   "source": [
    "ab=anchorBounder\n",
    "fig,ax = plt.subplots()\n",
    "for h in ab.hs:\n",
    "    ax.plot(h[:130])\n"
   ]
  },
  {
   "cell_type": "code",
   "execution_count": 9,
   "metadata": {},
   "outputs": [
    {
     "data": {
      "text/plain": [
       "0.1106930258671654"
      ]
     },
     "execution_count": 9,
     "metadata": {},
     "output_type": "execute_result"
    }
   ],
   "source": [
    "anchorBounder.evals/N"
   ]
  },
  {
   "cell_type": "code",
   "execution_count": 10,
   "metadata": {},
   "outputs": [
    {
     "name": "stdout",
     "output_type": "stream",
     "text": [
      "111\n"
     ]
    }
   ],
   "source": [
    "neighbors = anchorBounder.get_ann()\n",
    "anchor_set = {i:set(neighbors[0][i]) for i in (range(anchorBounder.nx))}\n",
    "exact_set = {i:set(np.argsort(Exact[i])[:anchorBounder.n_neighbors]) for i in (range(anchorBounder.nx))}\n",
    "\n",
    "print(15*anchorBounder.nx-np.sum([(len(anchor_set[i].intersection(exact_set[i]))) for i in range(anchorBounder.nx)]))\n",
    "    "
   ]
  },
  {
   "cell_type": "code",
   "execution_count": null,
   "metadata": {},
   "outputs": [],
   "source": []
  },
  {
   "cell_type": "code",
   "execution_count": 25,
   "metadata": {},
   "outputs": [
    {
     "name": "stdout",
     "output_type": "stream",
     "text": [
      "get_anchors: 11.211450099945068\n",
      "get_LRApprox_lo_mem: 21.5401291847229\n",
      "get_exact_lo_mem: 32.42900609970093\n",
      "115\n"
     ]
    }
   ],
   "source": [
    "\n",
    "start = time.time()\n",
    "ab = anchoring.AnchorBounder(x,\n",
    "                            wasserstein,\n",
    "                            n_anchors=30,\n",
    "                            n_neighbors=15,\n",
    "                            min_prob=0.1,\n",
    "                            max_checks=300,\n",
    "                            random_seed=0,\n",
    "                            regression_sample_size=4000,\n",
    "                            splits=4,\n",
    "                            locality=5)\n",
    "\n",
    "\n",
    "ab.get_anchors()\n",
    "print('get_anchors:', time.time()-start)\n",
    "\n",
    "ab.get_LRApprox_lo_mem()\n",
    "print('get_LRApprox_lo_mem:', time.time()-start)\n",
    "\n",
    "A,B=ab.get_exact_lo_mem()\n",
    "print('get_exact_lo_mem:', time.time()-start)\n",
    "\n",
    "\n",
    "neighbors = A,B\n",
    "anchor_set = {i:set(neighbors[0][i]) for i in (range(ab.nx))}\n",
    "exact_set = {i:set(np.argsort(Exact[i])[:ab.n_neighbors]) for i in (range(ab.nx))}\n",
    "\n",
    "print(15*ab.nx-np.sum([(len(anchor_set[i].intersection(exact_set[i]))) for i in range(ab.nx)]))\n",
    "    "
   ]
  },
  {
   "cell_type": "code",
   "execution_count": 26,
   "metadata": {},
   "outputs": [
    {
     "data": {
      "image/png": "[encoded data removed]",
      "text/plain": [
       "<Figure size 432x288 with 1 Axes>"
      ]
     },
     "metadata": {},
     "output_type": "display_data"
    }
   ],
   "source": [
    "h = [len(ab.check[i]) for i in ab.check]\n",
    "fig,ax = plt.subplots()\n",
    "ax.hist(h,bins=50)\n",
    "plt.show()"
   ]
  },
  {
   "cell_type": "code",
   "execution_count": 27,
   "metadata": {},
   "outputs": [
    {
     "data": {
      "text/plain": [
       "[<matplotlib.lines.Line2D at 0x1266ea2b0>]"
      ]
     },
     "execution_count": 27,
     "metadata": {},
     "output_type": "execute_result"
    },
    {
     "data": {
      "image/png": "[encoded data removed]",
      "text/plain": [
       "<Figure size 1440x720 with 1 Axes>"
      ]
     },
     "metadata": {},
     "output_type": "display_data"
    }
   ],
   "source": [
    "fig,ax = plt.subplots(figsize=(20,10))\n",
    "ax.plot(np.sort(anchorBounder.LRApprox[350])[:300])\n",
    "ax.plot(ab.LRApprox[350][:300])"
   ]
  },
  {
   "cell_type": "code",
   "execution_count": null,
   "metadata": {},
   "outputs": [],
   "source": []
  }
 ],
 "metadata": {
  "kernelspec": {
   "display_name": "Python 3",
   "language": "python",
   "name": "python3"
  },
  "language_info": {
   "codemirror_mode": {
    "name": "ipython",
    "version": 3
   },
   "file_extension": ".py",
   "mimetype": "text/x-python",
   "name": "python",
   "nbconvert_exporter": "python",
   "pygments_lexer": "ipython3",
   "version": "3.6.5"
  }
 },
 "nbformat": 4,
 "nbformat_minor": 2
}
