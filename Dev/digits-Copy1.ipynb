{
 "cells": [
  {
   "cell_type": "code",
   "execution_count": 1,
   "metadata": {},
   "outputs": [],
   "source": [
    "import numpy as np\n",
    "import time\n",
    "from annchor.datasets import load_digits,load_digits_large\n",
    "import matplotlib.pyplot as plt"
   ]
  },
  {
   "cell_type": "code",
   "execution_count": 2,
   "metadata": {},
   "outputs": [
    {
     "data": {
      "image/png": "[encoded data removed]",
      "text/plain": [
       "<Figure size 432x288 with 10 Axes>"
      ]
     },
     "metadata": {
      "needs_background": "light"
     },
     "output_type": "display_data"
    }
   ],
   "source": [
    "k=25\n",
    "\n",
    "X = load_digits_large()['X']\n",
    "y = load_digits_large()['y']\n",
    "neighbor_graph = load_digits_large()['neighbor_graph']\n",
    "\n",
    "nx = X.shape[0]\n",
    "\n",
    "fig,axs = plt.subplots(2,5)\n",
    "axs = axs.flatten()\n",
    "for i,ax in enumerate(axs):\n",
    "    ax.imshow(X[y==i][0].reshape(8,8))\n",
    "    ax.axis('off')\n",
    "\n",
    "plt.tight_layout(h_pad=0.1, w_pad=0.3)\n",
    "plt.show()"
   ]
  },
  {
   "cell_type": "code",
   "execution_count": 3,
   "metadata": {},
   "outputs": [],
   "source": [
    "from annchor.distances import wasserstein\n",
    "from annchor import compare_neighbor_graphs\n",
    "\n"
   ]
  },
  {
   "cell_type": "code",
   "execution_count": null,
   "metadata": {},
   "outputs": [],
   "source": [
    "from numba import njit\n",
    "\n",
    "def get_new_bounds(ann):\n",
    "    II,JJ = np.meshgrid(np.arange(ann.nx),np.arange(ann.nx))\n",
    "    newD = ann.RefineApprox.copy()\n",
    "    newD[II>JJ]*=(~ann.not_computed_mask)\n",
    "    newD[II>JJ]-=ann.not_computed_mask\n",
    "    newD[II<JJ]*=0\n",
    "    newD+=newD.T\n",
    "\n",
    "\n",
    "    @njit\n",
    "    def get_approx(D,A,nx):\n",
    "        Approx = np.zeros(shape=(nx, nx,2))\n",
    "        DaD =  np.zeros(shape=(nx, nx))\n",
    "        for i in prange(nx-1):\n",
    "            imask = D[i]>-1\n",
    "            #for a in A:\n",
    "            #    imask[a]=False\n",
    "            for j in prange(i+1,nx):\n",
    "                mask = imask*(D[j]>-1)\n",
    "                #mask[ann.A]=False\n",
    "\n",
    "                djm = D[j][mask]\n",
    "                dim = D[i][mask]\n",
    "\n",
    "                lb = np.max(np.abs(dim - djm))\n",
    "                ub = np.min(dim+djm)\n",
    "\n",
    "                DaD[i,j] = (dim[np.argmin(djm)]+\n",
    "                      djm[np.argmin(dim)])\n",
    "\n",
    "                Approx[i,j,0] = lb\n",
    "                Approx[j,i,0] = lb\n",
    "                Approx[i, j, 1] = ub\n",
    "                Approx[j,i,1] = ub\n",
    "\n",
    "        return Approx,DaD/2\n",
    "\n",
    "    return get_approx(newD,ann.A,ann.nx)"
   ]
  },
  {
   "cell_type": "code",
   "execution_count": null,
   "metadata": {},
   "outputs": [],
   "source": [
    "from annchor import Annchor\n",
    "from annchor.components import *\n",
    "\n",
    "from sklearn.neighbors import KNeighborsRegressor as KNR\n",
    "from sklearn.linear_model import LinearRegression as LR\n",
    "\n",
    "\n",
    "start_time = time.time()\n",
    "\n",
    "# Call ANNchor\n",
    "ann = Annchor(X,\n",
    "              wasserstein,\n",
    "              n_anchors=30,\n",
    "              n_neighbors=k,\n",
    "              n_samples=5000,\n",
    "              refine_cycles=1,\n",
    "              p_work=0.01,              \n",
    "             )\n",
    "\n",
    "ann.get_anchors()\n",
    "ann.get_features()\n",
    "ann.get_sample()\n",
    "\n",
    "ann.fit_predict_regression()\n",
    "\n",
    "fig,ax = plt.subplots(figsize=(13,5))\n",
    "iy = np.argsort(ann.sample_y)\n",
    "ax.plot(ann.sample_features[iy,2:5],'.',alpha=0.4)\n",
    "ax.plot(ann.sample_predict[iy],'.',alpha=0.4)\n",
    "ax.plot(ann.sample_y[iy])\n",
    "plt.show()\n",
    "\n",
    "ann.fit_predict_errors()\n",
    "ann.select_candidate_pairs(0.5)\n",
    "ann.refine_approx()\n",
    "\n",
    "if True:\n",
    "    II,JJ = np.meshgrid(np.arange(ann.nx),np.arange(ann.nx))\n",
    "\n",
    "\n",
    "    #RA = ann.RefineApprox.copy()\n",
    "    appr,dad = get_new_bounds(ann)\n",
    "    ann.features[:,2:4]=appr[II>JJ]\n",
    "    ann.features[:,4]=dad[II>JJ]\n",
    "\n",
    "\n",
    "    ann.get_sample()\n",
    "    ann.fit_predict_regression()\n",
    "    ann.fit_predict_errors()\n",
    "    #ann.RefineApprox = RA.copy()\n",
    "    #for sample_ij,y in zip(ann.sample_ijs,ann.sample_y):\n",
    "    #    i,j = sample_ij\n",
    "    #    ann.RefineApprox[i,j]=y\n",
    "    #    ann.RefineApprox[j,i]=y\n",
    "\n",
    "    fig,ax = plt.subplots(figsize=(13,5))\n",
    "    iy = np.argsort(ann.sample_y)\n",
    "    ax.plot(ann.sample_features[iy,2:5],'.',alpha=0.4)\n",
    "    ax.plot(ann.sample_predict[iy],'.',alpha=0.4)\n",
    "    ax.plot(ann.sample_y[iy])\n",
    "    plt.show()\n",
    "\n",
    "\n",
    "ann.select_candidate_pairs(0.5)\n",
    "ann.refine_approx()\n",
    "\n",
    "ann.get_ann()\n",
    "print('ANNchor Time: %5.3f seconds' % (time.time()-start_time))\n",
    "\n",
    "\n",
    "## Test accuracy\n",
    "error = compare_neighbor_graphs(neighbor_graph,\n",
    "                                ann.neighbor_graph,\n",
    "                                k)\n",
    "print('ANNchor Accuracy: %d incorrect NN pairs (%5.3f%%)' % (error,100*error/(k*nx)))\n",
    "print('ANNchor Evals: %d function calls (%5.3f%% of brute force)' % (ann.evals,\n",
    "                                                       100*ann.evals/(ann.nx*(ann.nx-1)/2)\n",
    "                                                      )\n",
    "     )\n",
    "\n"
   ]
  },
  {
   "cell_type": "code",
   "execution_count": null,
   "metadata": {},
   "outputs": [],
   "source": [
    "stop"
   ]
  },
  {
   "cell_type": "code",
   "execution_count": null,
   "metadata": {},
   "outputs": [],
   "source": [
    "II,JJ = np.meshgrid(np.arange(ann.nx),np.arange(ann.nx))\n",
    "newD = ann.RefineApprox.copy()\n",
    "newD[II>JJ]*=(~ann.not_computed_mask)\n",
    "newD[II>JJ]-=ann.not_computed_mask\n",
    "newD[II<JJ]*=0\n",
    "newD+=newD.T"
   ]
  },
  {
   "cell_type": "code",
   "execution_count": null,
   "metadata": {},
   "outputs": [],
   "source": [
    "newD[0][(newD[0]>-1)*(newD[1]>-1)]"
   ]
  },
  {
   "cell_type": "code",
   "execution_count": null,
   "metadata": {},
   "outputs": [],
   "source": [
    "mask = (newD[0]>-1)*(newD[1]>-1)\n",
    "mask[ann.A]=False\n",
    "np.any(mask)"
   ]
  },
  {
   "cell_type": "code",
   "execution_count": null,
   "metadata": {},
   "outputs": [],
   "source": [
    "from numba import njit\n",
    "\n",
    "def get_new_bounds(ann):\n",
    "    II,JJ = np.meshgrid(np.arange(ann.nx),np.arange(ann.nx))\n",
    "    newD = ann.RefineApprox.copy()\n",
    "    newD[II>JJ]*=(~ann.not_computed_mask)\n",
    "    newD[II>JJ]-=ann.not_computed_mask\n",
    "    newD[II<JJ]*=0\n",
    "    newD+=newD.T\n",
    "\n",
    "\n",
    "    @njit\n",
    "    def get_approx(D,A,nx):\n",
    "        Approx = np.zeros(shape=(nx, nx,2))\n",
    "        DaD =  np.zeros(shape=(nx, nx))\n",
    "        for i in prange(nx-1):\n",
    "            imask = D[i]>-1\n",
    "            #for a in A:\n",
    "            #    imask[a]=False\n",
    "            for j in prange(i+1,nx):\n",
    "                mask = imask*(D[j]>-1)\n",
    "                #mask[ann.A]=False\n",
    "\n",
    "                djm = D[j][mask]\n",
    "                dim = D[i][mask]\n",
    "\n",
    "                lb = np.max(np.abs(dim - djm))\n",
    "                ub = np.min(dim+djm)\n",
    "\n",
    "                DaD[i,j] = (dim[np.argmin(djm)]+\n",
    "                      djm[np.argmin(dim)])\n",
    "\n",
    "                Approx[i,j,0] = lb\n",
    "                Approx[j,i,0] = lb\n",
    "                Approx[i, j, 1] = ub\n",
    "                Approx[j,i,1] = ub\n",
    "\n",
    "        return Approx,DaD/2\n",
    "\n",
    "    return get_approx(newD,ann.A,ann.nx)"
   ]
  },
  {
   "cell_type": "code",
   "execution_count": null,
   "metadata": {},
   "outputs": [],
   "source": [
    "appr,dad = get_new_bounds(ann)"
   ]
  },
  {
   "cell_type": "code",
   "execution_count": null,
   "metadata": {},
   "outputs": [],
   "source": [
    "dad[II>JJ]"
   ]
  },
  {
   "cell_type": "code",
   "execution_count": null,
   "metadata": {},
   "outputs": [],
   "source": [
    "np.sum( ~(ann.features[:,4] ==dad[II>JJ][:]))"
   ]
  },
  {
   "cell_type": "code",
   "execution_count": null,
   "metadata": {},
   "outputs": [],
   "source": [
    "fig,ax = plt.subplots()\n",
    "ax.hist( (ann.Bounds[:,:,1]-ann.Bounds[:,:,0]).flatten(),bins=100)\n",
    "ax.hist( (newBounds[:,:,1]-newBounds[:,:,0]).flatten(),bins=100,alpha=0.7)\n",
    "\n",
    "\n",
    "plt.show()"
   ]
  },
  {
   "cell_type": "code",
   "execution_count": null,
   "metadata": {},
   "outputs": [],
   "source": [
    "fig,ax = plt.subplots(figsize=(13,5))\n",
    "\n",
    "iy = np.argsort(ann.sample_y)\n",
    "\n",
    "ax.plot(ann.sample_features[iy,2:4],'.',alpha=0.4)\n",
    "ax.plot(ann.sample_predict[iy],'.',alpha=0.4)\n",
    "\n",
    "#ax.plot(newBounds[II>JJ][ann.sample_ixs][iy])\n",
    "ax.plot(ann.sample_y[iy])"
   ]
  },
  {
   "cell_type": "code",
   "execution_count": null,
   "metadata": {},
   "outputs": [],
   "source": []
  },
  {
   "cell_type": "code",
   "execution_count": null,
   "metadata": {},
   "outputs": [],
   "source": [
    "@njit(parallel=True,fastmath=True)\n",
    "def get_approx_njit(D,nx):\n",
    "    Approx = np.zeros(shape=(nx, nx, 2))\n",
    "    for i in prange(nx-1):\n",
    "        for j in prange(i+1,nx):\n",
    "            lb = np.max(np.abs(D[i] - D[j]))\n",
    "            ub = np.min(D[i] + D[j])\n",
    "\n",
    "\n",
    "            Approx[i,j,0] = lb\n",
    "            Approx[j,i,0] = lb\n",
    "            Approx[i, j, 1] = ub\n",
    "            Approx[j,i,1] = ub\n",
    "\n",
    "    return Approx"
   ]
  },
  {
   "cell_type": "code",
   "execution_count": null,
   "metadata": {},
   "outputs": [],
   "source": [
    "fig,ax = plt.subplots(figsize=(20,10))\n",
    "ax.vlines([i*714 for i in range(8)],0,2.5,'k')\n",
    "ix = np.argsort(ann.sample_y)\n",
    "ax.plot(ann.sample_features[ix,2:-1],'.',alpha=0.3)\n",
    "ax.plot(ann.sample_features[ix,4]/2,'.',alpha=0.3)\n",
    "\n",
    "\n",
    "ax.plot(ann.sample_predict[ix],'.',alpha=0.3)\n",
    "ax.plot(ann.sample_y[ix],'.',alpha=0.3)\n",
    "\n",
    "\n",
    "\n",
    "\n"
   ]
  },
  {
   "cell_type": "code",
   "execution_count": null,
   "metadata": {},
   "outputs": [],
   "source": [
    "from collections import Counter\n",
    "Counter(np.argmin(ann.D,axis=1))"
   ]
  },
  {
   "cell_type": "code",
   "execution_count": null,
   "metadata": {},
   "outputs": [],
   "source": [
    "from tqdm.notebook import tqdm as tq\n",
    "nx = ann.nx\n",
    "na = 1\n",
    "np.random.seed(ann.random_seed)\n",
    "\n",
    "# D stores distances to anchor points\n",
    "# note: at this point D is shape (n_anchors, nx),\n",
    "#       but we transpose this after calculations.\n",
    "D = np.zeros((na, nx)) + np.infty\n",
    "\n",
    "# A stores anchor indices\n",
    "A = np.zeros(na).astype(int)\n",
    "ix = np.random.randint(nx)\n",
    "\n",
    "#get_dists = get_dists_(ann.f,ann.low_cpu)\n",
    "\n",
    "for i in tq(range(na)):\n",
    "    A[i] = ix  \n",
    "    D[i] = get_dists(ix,ann.f,ann.X,nx)\n",
    "    ix = np.argmax(np_min(D, 0))\n",
    "\n"
   ]
  },
  {
   "cell_type": "code",
   "execution_count": null,
   "metadata": {},
   "outputs": [],
   "source": [
    "D"
   ]
  },
  {
   "cell_type": "code",
   "execution_count": null,
   "metadata": {},
   "outputs": [],
   "source": [
    "get_dists(ix,ann.f,ann.X,nx)"
   ]
  },
  {
   "cell_type": "code",
   "execution_count": null,
   "metadata": {},
   "outputs": [],
   "source": [
    "a,b = set(ann.neighbor_graph[0][31]),set(neighbor_graph[0][31,:25].astype(int))\n",
    "a.difference(b),b.difference(a)"
   ]
  },
  {
   "cell_type": "code",
   "execution_count": null,
   "metadata": {},
   "outputs": [],
   "source": [
    "ann.RefineApprox[31,845],ann.RefineApprox[31,159]"
   ]
  },
  {
   "cell_type": "code",
   "execution_count": null,
   "metadata": {},
   "outputs": [],
   "source": [
    "ann.f(ann.X[31],ann.X[159])"
   ]
  },
  {
   "cell_type": "code",
   "execution_count": null,
   "metadata": {},
   "outputs": [],
   "source": [
    "ann.Bounds[31,845],ann.Bounds[31,159]"
   ]
  },
  {
   "cell_type": "code",
   "execution_count": null,
   "metadata": {},
   "outputs": [],
   "source": []
  }
 ],
 "metadata": {
  "kernelspec": {
   "display_name": "Python 3",
   "language": "python",
   "name": "python3"
  },
  "language_info": {
   "codemirror_mode": {
    "name": "ipython",
    "version": 3
   },
   "file_extension": ".py",
   "mimetype": "text/x-python",
   "name": "python",
   "nbconvert_exporter": "python",
   "pygments_lexer": "ipython3",
   "version": "3.8.2"
  }
 },
 "nbformat": 4,
 "nbformat_minor": 4
}
