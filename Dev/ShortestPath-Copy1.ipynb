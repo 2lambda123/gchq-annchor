{
 "cells": [
  {
   "cell_type": "code",
   "execution_count": 256,
   "metadata": {},
   "outputs": [],
   "source": [
    "import numpy as np\n",
    "import time\n",
    "import networkx as nkx\n",
    "import matplotlib.pyplot as plt\n",
    "import string\n",
    "\n",
    "from tqdm.notebook import tqdm as tq\n",
    "import umap"
   ]
  },
  {
   "cell_type": "code",
   "execution_count": 257,
   "metadata": {},
   "outputs": [
    {
     "data": {
      "text/plain": [
       "1"
      ]
     },
     "execution_count": 257,
     "metadata": {},
     "output_type": "execute_result"
    }
   ],
   "source": [
    "n0,n1 = 50,50\n",
    "G = nkx.generators.community.random_partition_graph([n0]*n1,n0/(n0*n1),n0/(n0*n1),seed=5)\n",
    "nx = len(G.nodes)\n",
    "X = np.array(np.arange(nx))\n",
    "len([g for g in nkx.connected_components(G)])"
   ]
  },
  {
   "cell_type": "code",
   "execution_count": 258,
   "metadata": {},
   "outputs": [
    {
     "data": {
      "text/plain": [
       "2500"
      ]
     },
     "execution_count": 258,
     "metadata": {},
     "output_type": "execute_result"
    }
   ],
   "source": [
    "nx#,[len(g) for g in nkx.connected_components(G)]"
   ]
  },
  {
   "cell_type": "code",
   "execution_count": 259,
   "metadata": {},
   "outputs": [],
   "source": [
    "if False:\n",
    "    large_component = [g for g in nkx.connected_components(G)][0]\n",
    "    component_node_exemplars = [list(g)[0] for g in nkx.connected_components(G)][1:]\n",
    "    component_node_exemplars_block = [G.nodes[c]['block'] for c in component_node_exemplars]\n",
    "\n",
    "    large_component_exemplars_by_block= [[c for c in large_component if G.nodes[c]['block']==block][0]\n",
    "                                         for block in range(50)]\n",
    "\n",
    "    large_component_exemplars2_by_block= [[c for c in large_component if G.nodes[c]['block']==block][1]\n",
    "                                         for block in range(50)]\n",
    "\n",
    "    large_component_exemplars3_by_block= [[c for c in large_component if G.nodes[c]['block']==block][2]\n",
    "                                         for block in range(50)]\n",
    "\n",
    "    for c,b in zip(component_node_exemplars,\n",
    "                   component_node_exemplars_block):\n",
    "        edge = (c,large_component_exemplars_by_block[b])\n",
    "        G.add_edge(*edge)\n",
    "        edge = (c,large_component_exemplars2_by_block[b])\n",
    "        G.add_edge(*edge)\n",
    "        edge = (c,large_component_exemplars3_by_block[b])\n",
    "        G.add_edge(*edge)\n",
    "        \n"
   ]
  },
  {
   "cell_type": "code",
   "execution_count": null,
   "metadata": {},
   "outputs": [],
   "source": []
  },
  {
   "cell_type": "code",
   "execution_count": 260,
   "metadata": {},
   "outputs": [
    {
     "data": {
      "image/png": "[encoded data removed]",
      "text/plain": [
       "<Figure size 432x288 with 1 Axes>"
      ]
     },
     "metadata": {
      "needs_background": "light"
     },
     "output_type": "display_data"
    }
   ],
   "source": [
    "fig,ax = plt.subplots()\n",
    "\n",
    "ax.hist(np.random.lognormal(mean=0,sigma=0.1,size=1000),bins=np.linspace(0,20,100),alpha=0.8,density=1)\n",
    "ax.hist(np.random.lognormal(mean=2,sigma=0.1,size=1000),bins=np.linspace(0,20,100),alpha=0.6,density=1)\n",
    "ax.set_xlim(0,20)\n",
    "\n",
    "plt.show()"
   ]
  },
  {
   "cell_type": "code",
   "execution_count": null,
   "metadata": {},
   "outputs": [],
   "source": []
  },
  {
   "cell_type": "code",
   "execution_count": 261,
   "metadata": {},
   "outputs": [
    {
     "data": {
      "application/vnd.jupyter.widget-view+json": {
       "model_id": "6742e2d51f9a4930abb873a04f3faedf",
       "version_major": 2,
       "version_minor": 0
      },
      "text/plain": [
       "HBox(children=(HTML(value=''), FloatProgress(value=0.0, max=62372.0), HTML(value='')))"
      ]
     },
     "metadata": {},
     "output_type": "display_data"
    },
    {
     "name": "stdout",
     "output_type": "stream",
     "text": [
      "\n"
     ]
    },
    {
     "data": {
      "application/vnd.jupyter.widget-view+json": {
       "model_id": "fd1dcbb0674f4dd482f6261e8d6b0718",
       "version_major": 2,
       "version_minor": 0
      },
      "text/plain": [
       "HBox(children=(HTML(value=''), FloatProgress(value=0.0, max=2500.0), HTML(value='')))"
      ]
     },
     "metadata": {},
     "output_type": "display_data"
    },
    {
     "name": "stdout",
     "output_type": "stream",
     "text": [
      "\n"
     ]
    }
   ],
   "source": [
    "for edge in tq(G.edges):\n",
    "    #print(G.edges[edge])\n",
    "    if (G.nodes[edge[0]]['block']!=G.nodes[edge[1]]['block']):\n",
    "        G.edges[edge]['w']=2#np.random.lognormal(mean=2,sigma=0.1)\n",
    "    else:\n",
    "        G.edges[edge]['w']=0.1#np.random.lognormal(mean=0,sigma=0.1)\n",
    "for node in tq(G.nodes):\n",
    "    del G.nodes[node]['block']\n",
    "#del G.graph[\"partition\"]    "
   ]
  },
  {
   "cell_type": "code",
   "execution_count": 262,
   "metadata": {},
   "outputs": [
    {
     "data": {
      "image/png": "[encoded data removed]",
      "text/plain": [
       "<Figure size 432x288 with 1 Axes>"
      ]
     },
     "metadata": {
      "needs_background": "light"
     },
     "output_type": "display_data"
    }
   ],
   "source": [
    "fig,ax = plt.subplots()\n",
    "ax.hist([value['w'] for value in G.edges.values()],bins=100)\n",
    "plt.show()"
   ]
  },
  {
   "cell_type": "code",
   "execution_count": 263,
   "metadata": {},
   "outputs": [],
   "source": [
    "import ctd_utils"
   ]
  },
  {
   "cell_type": "code",
   "execution_count": null,
   "metadata": {},
   "outputs": [],
   "source": []
  },
  {
   "cell_type": "code",
   "execution_count": 264,
   "metadata": {},
   "outputs": [
    {
     "data": {
      "text/plain": [
       "flag_{outlandish_cerulean_silverfish}"
      ]
     },
     "execution_count": 264,
     "metadata": {},
     "output_type": "execute_result"
    }
   ],
   "source": [
    "np.random.seed(558568+217)\n",
    "flag = ctd_utils.generate_flag()\n",
    "R = np.random.choice(np.arange(1e6),replace=False,size = n0*n1).astype(int)\n",
    "\n",
    "flag"
   ]
  },
  {
   "cell_type": "code",
   "execution_count": 265,
   "metadata": {},
   "outputs": [],
   "source": [
    "def pad_part(flag_part,k):\n",
    "    pad = k-len(flag_part)\n",
    "    if pad%2==0:\n",
    "        pad = pad//2,pad//2\n",
    "    else:\n",
    "        pad = pad//2,pad//2+1\n",
    "    pad\n",
    "\n",
    "    return np.array(list( ('*' * pad[0]\n",
    "                         + flag_part \n",
    "                         + '*' * pad[1]\n",
    "                          )\n",
    "                        )\n",
    "                   )"
   ]
  },
  {
   "cell_type": "code",
   "execution_count": null,
   "metadata": {},
   "outputs": [],
   "source": []
  },
  {
   "cell_type": "code",
   "execution_count": 266,
   "metadata": {},
   "outputs": [],
   "source": [
    "adj = pad_part(flag.adj,n0)\n",
    "rs_adj = R[np.array([i for i in G.graph['partition'][5]])]\n",
    "\n",
    "ix_adj = np.argsort(rs_adj)\n",
    "xi_adj = np.array([list(ix_adj).index(i) for i in range(n0)])\n",
    "\n",
    "rs_adj,adj[xi_adj]\n",
    "\n",
    "col = pad_part(flag.col,n0)\n",
    "rs_col = R[np.array([i for i in G.graph['partition'][13]])]\n",
    "\n",
    "ix_col = np.argsort(rs_col)\n",
    "xi_col = np.array([list(ix_col).index(i) for i in range(n0)])\n",
    "\n",
    "col[xi_col]\n",
    "\n",
    "ani = pad_part(flag.ani,n0)\n",
    "rs_ani = R[np.array([i for i in G.graph['partition'][25]])]\n",
    "\n",
    "ix_ani = np.argsort(rs_ani)\n",
    "xi_ani = np.array([list(ix_ani).index(i) for i in range(n0)])\n",
    "\n",
    "ani[xi_ani]\n",
    "\n",
    "del G.graph['partition']\n",
    "H = nkx.relabel_nodes(G, {i:r for i,r in enumerate(R)} )\n",
    "\n",
    "mapped = {r: (r,np.random.choice(list(string.ascii_lowercase+'*'))) for r in R}\n",
    "for flag_part in [(rs_adj,adj[xi_adj]),\n",
    "                 (rs_col,col[xi_col]),\n",
    "                 (rs_ani,ani[xi_ani])]:\n",
    "    for r,char in zip(*flag_part):\n",
    "        mapped[r] = (r,char)\n",
    "        \n",
    "H = nkx.relabel_nodes(H, mapped )"
   ]
  },
  {
   "cell_type": "code",
   "execution_count": null,
   "metadata": {},
   "outputs": [],
   "source": []
  },
  {
   "cell_type": "code",
   "execution_count": null,
   "metadata": {},
   "outputs": [],
   "source": []
  },
  {
   "cell_type": "code",
   "execution_count": 267,
   "metadata": {},
   "outputs": [],
   "source": [
    "K = nkx.Graph()"
   ]
  },
  {
   "cell_type": "code",
   "execution_count": 268,
   "metadata": {},
   "outputs": [],
   "source": [
    "nodes = [node for node in H.nodes]\n",
    "edges = [(*item[0],item[1]) for item in H.edges.items()]\n",
    "np.random.shuffle(nodes)\n",
    "np.random.shuffle(edges)"
   ]
  },
  {
   "cell_type": "code",
   "execution_count": 269,
   "metadata": {},
   "outputs": [],
   "source": [
    "K.add_nodes_from(nodes)\n",
    "K.add_edges_from(edges)"
   ]
  },
  {
   "cell_type": "code",
   "execution_count": 270,
   "metadata": {},
   "outputs": [
    {
     "data": {
      "text/plain": [
       "((290886, 'o'), (443830, 'u'), {'w': 2})"
      ]
     },
     "execution_count": 270,
     "metadata": {},
     "output_type": "execute_result"
    }
   ],
   "source": [
    "edges[0]"
   ]
  },
  {
   "cell_type": "code",
   "execution_count": 271,
   "metadata": {},
   "outputs": [
    {
     "data": {
      "image/png": "[encoded data removed]",
      "text/plain": [
       "<Figure size 432x288 with 1 Axes>"
      ]
     },
     "metadata": {
      "needs_background": "light"
     },
     "output_type": "display_data"
    }
   ],
   "source": [
    "fig,ax = plt.subplots()\n",
    "ax.hist([value['w'] for value in K.edges.values()],bins=100)\n",
    "plt.show()"
   ]
  },
  {
   "cell_type": "code",
   "execution_count": null,
   "metadata": {},
   "outputs": [],
   "source": []
  },
  {
   "cell_type": "code",
   "execution_count": 272,
   "metadata": {},
   "outputs": [],
   "source": [
    "from networkx.algorithms import community"
   ]
  },
  {
   "cell_type": "code",
   "execution_count": null,
   "metadata": {},
   "outputs": [],
   "source": [
    "test = community.greedy_modularity_communities(K,weight='w')\n",
    "comms = [t for t in test]\n",
    "np.empty(shape=len(K))\n",
    "for c in comms:\n",
    "    nums = np.array(([i[0] for i in list(c)]))\n",
    "    chars = np.array(([i[1] for i in list(c)]))\n",
    "    if np.sum(chars[np.argsort(nums)]=='*')>1:\n",
    "        print(''.join(chars[np.argsort(nums)]))"
   ]
  },
  {
   "cell_type": "code",
   "execution_count": 250,
   "metadata": {},
   "outputs": [],
   "source": [
    "P = nkx.Graph()\n",
    "\n",
    "for edge,weight in K.edges.items():\n",
    "    if weight['w']<4:\n",
    "        P.add_nodes_from(edge)\n",
    "        P.add_edge(*edge)"
   ]
  },
  {
   "cell_type": "code",
   "execution_count": 251,
   "metadata": {},
   "outputs": [
    {
     "data": {
      "text/plain": [
       "[2,\n",
       " 13,\n",
       " 3,\n",
       " 2,\n",
       " 2,\n",
       " 2,\n",
       " 4,\n",
       " 2,\n",
       " 9,\n",
       " 8,\n",
       " 19,\n",
       " 4,\n",
       " 4,\n",
       " 6,\n",
       " 7,\n",
       " 14,\n",
       " 7,\n",
       " 6,\n",
       " 2,\n",
       " 3,\n",
       " 3,\n",
       " 4,\n",
       " 6,\n",
       " 15,\n",
       " 10,\n",
       " 2,\n",
       " 4,\n",
       " 5,\n",
       " 2,\n",
       " 6,\n",
       " 2,\n",
       " 3,\n",
       " 10,\n",
       " 6,\n",
       " 9,\n",
       " 3,\n",
       " 2,\n",
       " 3,\n",
       " 18,\n",
       " 9,\n",
       " 3,\n",
       " 2,\n",
       " 12,\n",
       " 2,\n",
       " 2,\n",
       " 3,\n",
       " 2,\n",
       " 12,\n",
       " 15,\n",
       " 16,\n",
       " 3,\n",
       " 9,\n",
       " 3,\n",
       " 6,\n",
       " 2,\n",
       " 14,\n",
       " 6,\n",
       " 6,\n",
       " 3,\n",
       " 3,\n",
       " 6,\n",
       " 8,\n",
       " 9,\n",
       " 7,\n",
       " 32,\n",
       " 4,\n",
       " 2,\n",
       " 7,\n",
       " 2,\n",
       " 3,\n",
       " 2,\n",
       " 3,\n",
       " 6,\n",
       " 3,\n",
       " 4,\n",
       " 16,\n",
       " 2,\n",
       " 22,\n",
       " 4,\n",
       " 17,\n",
       " 2,\n",
       " 2,\n",
       " 2,\n",
       " 2,\n",
       " 2,\n",
       " 2,\n",
       " 14,\n",
       " 7,\n",
       " 2,\n",
       " 2,\n",
       " 8,\n",
       " 11,\n",
       " 2,\n",
       " 19,\n",
       " 4,\n",
       " 2,\n",
       " 3,\n",
       " 6,\n",
       " 2,\n",
       " 5,\n",
       " 2,\n",
       " 2,\n",
       " 2,\n",
       " 2,\n",
       " 3,\n",
       " 2,\n",
       " 4,\n",
       " 3,\n",
       " 2,\n",
       " 7,\n",
       " 2,\n",
       " 13,\n",
       " 2,\n",
       " 5,\n",
       " 13,\n",
       " 6,\n",
       " 3,\n",
       " 5,\n",
       " 15,\n",
       " 10,\n",
       " 4,\n",
       " 5,\n",
       " 4,\n",
       " 2,\n",
       " 3,\n",
       " 3,\n",
       " 7,\n",
       " 2,\n",
       " 2,\n",
       " 3,\n",
       " 6,\n",
       " 2,\n",
       " 2,\n",
       " 4,\n",
       " 5,\n",
       " 9,\n",
       " 2,\n",
       " 2,\n",
       " 26,\n",
       " 3,\n",
       " 6,\n",
       " 3,\n",
       " 3,\n",
       " 4,\n",
       " 10,\n",
       " 3,\n",
       " 2,\n",
       " 2,\n",
       " 19,\n",
       " 2,\n",
       " 6,\n",
       " 3,\n",
       " 5,\n",
       " 2,\n",
       " 5,\n",
       " 2,\n",
       " 4,\n",
       " 4,\n",
       " 2,\n",
       " 2,\n",
       " 2,\n",
       " 3,\n",
       " 3,\n",
       " 2,\n",
       " 2,\n",
       " 2,\n",
       " 3,\n",
       " 2,\n",
       " 2,\n",
       " 2,\n",
       " 6,\n",
       " 5,\n",
       " 3,\n",
       " 2,\n",
       " 4,\n",
       " 13,\n",
       " 3,\n",
       " 7,\n",
       " 12,\n",
       " 3,\n",
       " 3,\n",
       " 8,\n",
       " 5,\n",
       " 4,\n",
       " 3,\n",
       " 2,\n",
       " 2,\n",
       " 10,\n",
       " 3,\n",
       " 4,\n",
       " 3,\n",
       " 2,\n",
       " 2,\n",
       " 2,\n",
       " 6,\n",
       " 2,\n",
       " 12,\n",
       " 2,\n",
       " 3,\n",
       " 2,\n",
       " 2,\n",
       " 3,\n",
       " 4,\n",
       " 2,\n",
       " 3,\n",
       " 4,\n",
       " 2,\n",
       " 2,\n",
       " 2,\n",
       " 8,\n",
       " 3,\n",
       " 2,\n",
       " 7,\n",
       " 2,\n",
       " 2,\n",
       " 6,\n",
       " 3,\n",
       " 3,\n",
       " 3,\n",
       " 2,\n",
       " 3,\n",
       " 2,\n",
       " 3,\n",
       " 6,\n",
       " 2,\n",
       " 6,\n",
       " 2,\n",
       " 2,\n",
       " 2,\n",
       " 2,\n",
       " 8,\n",
       " 2,\n",
       " 3,\n",
       " 5,\n",
       " 3,\n",
       " 2,\n",
       " 5,\n",
       " 3,\n",
       " 2,\n",
       " 2,\n",
       " 4,\n",
       " 6,\n",
       " 2,\n",
       " 2,\n",
       " 6,\n",
       " 5,\n",
       " 2,\n",
       " 4,\n",
       " 2,\n",
       " 6,\n",
       " 3,\n",
       " 5,\n",
       " 2,\n",
       " 2,\n",
       " 2,\n",
       " 2,\n",
       " 3,\n",
       " 6,\n",
       " 3,\n",
       " 2,\n",
       " 5,\n",
       " 4,\n",
       " 2,\n",
       " 10,\n",
       " 5,\n",
       " 3,\n",
       " 2,\n",
       " 2,\n",
       " 4,\n",
       " 2,\n",
       " 2,\n",
       " 3,\n",
       " 2,\n",
       " 3,\n",
       " 2,\n",
       " 2,\n",
       " 2,\n",
       " 3,\n",
       " 2,\n",
       " 3,\n",
       " 2,\n",
       " 2,\n",
       " 3,\n",
       " 2,\n",
       " 3,\n",
       " 2,\n",
       " 2,\n",
       " 2,\n",
       " 3,\n",
       " 3,\n",
       " 5,\n",
       " 4,\n",
       " 2,\n",
       " 2,\n",
       " 2,\n",
       " 2,\n",
       " 2,\n",
       " 2,\n",
       " 2,\n",
       " 2,\n",
       " 2,\n",
       " 2,\n",
       " 3,\n",
       " 3,\n",
       " 2,\n",
       " 2,\n",
       " 2,\n",
       " 3,\n",
       " 2,\n",
       " 3,\n",
       " 2,\n",
       " 2,\n",
       " 3,\n",
       " 2,\n",
       " 2,\n",
       " 2,\n",
       " 2,\n",
       " 2,\n",
       " 2,\n",
       " 2,\n",
       " 3,\n",
       " 2,\n",
       " 2,\n",
       " 3,\n",
       " 2,\n",
       " 2,\n",
       " 2,\n",
       " 2,\n",
       " 2,\n",
       " 2,\n",
       " 2,\n",
       " 2,\n",
       " 3,\n",
       " 2,\n",
       " 2,\n",
       " 2,\n",
       " 2,\n",
       " 3,\n",
       " 2,\n",
       " 3,\n",
       " 2,\n",
       " 2,\n",
       " 2,\n",
       " 3,\n",
       " 3,\n",
       " 2,\n",
       " 2,\n",
       " 5,\n",
       " 2,\n",
       " 2,\n",
       " 2,\n",
       " 2,\n",
       " 2,\n",
       " 2,\n",
       " 2,\n",
       " 2,\n",
       " 3,\n",
       " 2,\n",
       " 4,\n",
       " 2,\n",
       " 2,\n",
       " 2,\n",
       " 2,\n",
       " 2,\n",
       " 2,\n",
       " 3,\n",
       " 3,\n",
       " 2,\n",
       " 2,\n",
       " 2,\n",
       " 3,\n",
       " 3,\n",
       " 2,\n",
       " 3,\n",
       " 2,\n",
       " 2,\n",
       " 2,\n",
       " 2,\n",
       " 3,\n",
       " 3,\n",
       " 2,\n",
       " 2,\n",
       " 2,\n",
       " 2,\n",
       " 2,\n",
       " 2]"
      ]
     },
     "execution_count": 251,
     "metadata": {},
     "output_type": "execute_result"
    }
   ],
   "source": [
    "[len(p) for p in nkx.connected_components(P)]"
   ]
  },
  {
   "cell_type": "code",
   "execution_count": 253,
   "metadata": {},
   "outputs": [
    {
     "name": "stdout",
     "output_type": "stream",
     "text": [
      "**sef***\n",
      "*****\n",
      "**************ceuea*************\n",
      "***u****\n",
      "*lis**\n",
      "****lh****\n",
      "****\n",
      "*iv***\n",
      "****\n"
     ]
    }
   ],
   "source": [
    "test = nkx.connected_components(P)\n",
    "comms = [t for t in test]\n",
    "np.empty(shape=len(K))\n",
    "for c in comms:\n",
    "    nums = np.array(([i[0] for i in list(c)]))\n",
    "    chars = np.array(([i[1] for i in list(c)]))\n",
    "    if np.sum(chars[np.argsort(nums)]=='*')>2:\n",
    "        print(''.join(chars[np.argsort(nums)]))"
   ]
  },
  {
   "cell_type": "code",
   "execution_count": null,
   "metadata": {},
   "outputs": [],
   "source": []
  }
 ],
 "metadata": {
  "kernelspec": {
   "display_name": "Python 3",
   "language": "python",
   "name": "python3"
  },
  "language_info": {
   "codemirror_mode": {
    "name": "ipython",
    "version": 3
   },
   "file_extension": ".py",
   "mimetype": "text/x-python",
   "name": "python",
   "nbconvert_exporter": "python",
   "pygments_lexer": "ipython3",
   "version": "3.8.2"
  }
 },
 "nbformat": 4,
 "nbformat_minor": 2
}
