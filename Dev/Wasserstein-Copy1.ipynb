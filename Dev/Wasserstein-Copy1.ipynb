{
 "cells": [
  {
   "cell_type": "code",
   "execution_count": 15,
   "metadata": {},
   "outputs": [],
   "source": [
    "import numpy as np\n",
    "import time\n",
    "from annchor.datasets import load_digits_large,load_digits\n",
    "import matplotlib.pyplot as plt"
   ]
  },
  {
   "cell_type": "code",
   "execution_count": 22,
   "metadata": {},
   "outputs": [
    {
     "data": {
      "image/png": "[encoded data removed]",
      "text/plain": [
       "<Figure size 432x288 with 10 Axes>"
      ]
     },
     "metadata": {
      "needs_background": "light"
     },
     "output_type": "display_data"
    }
   ],
   "source": [
    "k=35\n",
    "\n",
    "X = load_digits_large()['X']\n",
    "y = load_digits_large()['y']\n",
    "neighbor_graph = load_digits_large()['neighbor_graph']\n",
    "\n",
    "nx = X.shape[0]\n",
    "\n",
    "fig,axs = plt.subplots(2,5)\n",
    "axs = axs.flatten()\n",
    "for i,ax in enumerate(axs):\n",
    "    ax.imshow(X[y==i][0].reshape(8,8))\n",
    "    ax.axis('off')\n",
    "\n",
    "plt.tight_layout(h_pad=0.1, w_pad=0.3)\n",
    "plt.show()"
   ]
  },
  {
   "cell_type": "code",
   "execution_count": 23,
   "metadata": {},
   "outputs": [],
   "source": [
    "from annchor.distances import wasserstein\n",
    "from annchor import compare_neighbor_graphs\n",
    "\n"
   ]
  },
  {
   "cell_type": "code",
   "execution_count": null,
   "metadata": {},
   "outputs": [],
   "source": []
  },
  {
   "cell_type": "code",
   "execution_count": 24,
   "metadata": {},
   "outputs": [
    {
     "name": "stdout",
     "output_type": "stream",
     "text": [
      "ANNchor Time: 103.740 seconds\n",
      "ANNchor Accuracy: 198 incorrect NN pairs (0.101%)\n",
      "ANNchor Evals: 1483018 evaluations  (9.392% of BruteForce)\n"
     ]
    }
   ],
   "source": [
    "from annchor import Annchor\n",
    "\n",
    "start_time = time.time()\n",
    "\n",
    "ann = Annchor(X,\n",
    "              wasserstein,\n",
    "              n_anchors=25,\n",
    "              n_neighbors=k,\n",
    "              min_prob=0.05,\n",
    "              random_seed=0,\n",
    "              n_samples=5000,\n",
    "              partitions=3)\n",
    "\n",
    "ann.fit()\n",
    "print('ANNchor Time: %5.3f seconds' % (time.time()-start_time))\n",
    "\n",
    "\n",
    "# Test accuracy\n",
    "error = compare_neighbor_graphs(neighbor_graph,\n",
    "                                ann.neighbor_graph,\n",
    "                                k)\n",
    "print('ANNchor Accuracy: %d incorrect NN pairs (%5.3f%%)' % (error,100*error/(k*nx)))\n",
    "print('ANNchor Evals: %d evaluations  (%5.3f%% of BruteForce)' % (ann.evals,100*ann.evals/(nx*(nx-1)/2)))"
   ]
  },
  {
   "cell_type": "code",
   "execution_count": null,
   "metadata": {},
   "outputs": [],
   "source": []
  },
  {
   "cell_type": "code",
   "execution_count": 25,
   "metadata": {},
   "outputs": [
    {
     "name": "stdout",
     "output_type": "stream",
     "text": [
      "get_sample: 5.261\n",
      "get_lr_partitions: 0.003\n",
      "get_locality: 0.454\n",
      "get IJs and indices 0.621\n",
      "get approx IJs 0.897\n",
      "do lin reg 1.603\n",
      "adjust by partition 2.506\n",
      "clip by bounds 3.190\n",
      "get_LRApprox_lomem 3.983\n",
      "ANNchor Time: 102.053 seconds\n",
      "ANNchor Accuracy: 105 incorrect NN pairs (0.053%)\n",
      "ANNchor Evals: 1660839 evaluations  (10.519% of BruteForce)\n"
     ]
    }
   ],
   "source": [
    "from annchor import Annchor\n",
    "\n",
    "\n",
    "start_time = time.time()\n",
    "\n",
    "\n",
    "# Call ANNchor\n",
    "ann = Annchor(X,\n",
    "              wasserstein,\n",
    "              n_anchors=25,\n",
    "              n_neighbors=k,\n",
    "              min_prob=0.025,\n",
    "              random_seed=0,\n",
    "              n_samples=5000,\n",
    "              partitions=3,\n",
    "              locality=5,\n",
    "              loc_thresh=1,)\n",
    "\n",
    "ann.fit_lo_mem()\n",
    "print('ANNchor Time: %5.3f seconds' % (time.time()-start_time))\n",
    "\n",
    "\n",
    "# Test accuracy\n",
    "error = compare_neighbor_graphs(neighbor_graph,\n",
    "                                ann.neighbor_graph,\n",
    "                                k)\n",
    "print('ANNchor Accuracy: %d incorrect NN pairs (%5.3f%%)' % (error,100*error/(k*nx)))\n",
    "print('ANNchor Evals: %d evaluations  (%5.3f%% of BruteForce)' % (ann.evals,100*ann.evals/(nx*(nx-1)/2)))"
   ]
  },
  {
   "cell_type": "code",
   "execution_count": null,
   "metadata": {},
   "outputs": [],
   "source": []
  },
  {
   "cell_type": "code",
   "execution_count": 31,
   "metadata": {},
   "outputs": [
    {
     "name": "stdout",
     "output_type": "stream",
     "text": [
      "0.146\n"
     ]
    }
   ],
   "source": [
    "e=7\n",
    "nx=1600\n",
    "k=15\n",
    "print('%5.3f' % (100*35/(nx*15)))"
   ]
  },
  {
   "cell_type": "code",
   "execution_count": null,
   "metadata": {},
   "outputs": [],
   "source": []
  }
 ],
 "metadata": {
  "kernelspec": {
   "display_name": "Python 3",
   "language": "python",
   "name": "python3"
  },
  "language_info": {
   "codemirror_mode": {
    "name": "ipython",
    "version": 3
   },
   "file_extension": ".py",
   "mimetype": "text/x-python",
   "name": "python",
   "nbconvert_exporter": "python",
   "pygments_lexer": "ipython3",
   "version": "3.8.2"
  }
 },
 "nbformat": 4,
 "nbformat_minor": 4
}
