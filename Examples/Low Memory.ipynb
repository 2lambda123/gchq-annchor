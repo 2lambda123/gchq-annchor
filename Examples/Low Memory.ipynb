{
 "cells": [
  {
   "cell_type": "code",
   "execution_count": 1,
   "metadata": {},
   "outputs": [],
   "source": [
    "import numpy as np\n",
    "import time\n"
   ]
  },
  {
   "cell_type": "code",
   "execution_count": 2,
   "metadata": {},
   "outputs": [],
   "source": [
    "from annchor import Annchor,BruteForce,compare_neighbor_graphs\n",
    "\n"
   ]
  },
  {
   "cell_type": "code",
   "execution_count": 3,
   "metadata": {},
   "outputs": [
    {
     "data": {
      "text/plain": [
       "0.820126095017842"
      ]
     },
     "execution_count": 3,
     "metadata": {},
     "output_type": "execute_result"
    }
   ],
   "source": [
    "np.random.seed(1)\n",
    "nx = 18000\n",
    "X=np.random.random(size=(nx,5))\n",
    "from numba import njit\n",
    "@njit\n",
    "def f(x,y):\n",
    "    return np.linalg.norm(x-y)\n",
    "\n",
    "f(X[0],X[1])"
   ]
  },
  {
   "cell_type": "code",
   "execution_count": 4,
   "metadata": {},
   "outputs": [
    {
     "name": "stdout",
     "output_type": "stream",
     "text": [
      "Brute Force Time: 416.554 seconds\n"
     ]
    }
   ],
   "source": [
    "start_time = time.time()\n",
    "\n",
    "bruteforce = BruteForce(X,f)\n",
    "bruteforce.get_neighbor_graph()\n",
    "\n",
    "print('Brute Force Time: %5.3f seconds' % (time.time()-start_time))\n",
    "\n",
    "neighbor_graph = bruteforce.neighbor_graph\n",
    "\n",
    "\n"
   ]
  },
  {
   "cell_type": "code",
   "execution_count": 6,
   "metadata": {},
   "outputs": [
    {
     "name": "stdout",
     "output_type": "stream",
     "text": [
      "computing anchors...\n",
      "                             get_anchors:  1.354 |  1.354\n",
      "computing locality...\n",
      "                            get_locality:  5.864 |  7.218\n",
      "computing features...\n",
      "                            get_features: 12.664 | 19.882\n",
      "computing sample...\n",
      "                              get_sample:  4.357 | 24.239\n",
      "fitting regression...\n",
      "                  fit_predict_regression: 10.744 | 34.983\n",
      "fitting errors...\n",
      "                      fit_predict_errors:  1.782 | 36.765\n",
      "selecting/refining candidate pairs (1)\n",
      "           select_refine_candidate_pairs:  7.800 | 44.565\n",
      "selecting/refining candidate pairs (2)\n",
      "           select_refine_candidate_pairs:  5.988 | 50.554\n",
      "generating neighbour graph\n",
      "                                 get_ann:  0.343 | 50.897\n",
      "ANNchor Time: 50.907 seconds\n",
      "ANNchor Accuracy: 101 incorrect NN pairs (0.022%)\n"
     ]
    }
   ],
   "source": [
    "k=25\n",
    "start_time = time.time()\n",
    "\n",
    "# Call ANNchor\n",
    "ann = Annchor(X,\n",
    "              f,\n",
    "              n_anchors=30,\n",
    "              n_neighbors=k,\n",
    "              n_samples=5000,\n",
    "              p_work=0.01,\n",
    "              verbose=True,\n",
    "              locality=10,\n",
    "              loc_thresh=6,)\n",
    "\n",
    "ann.fit()\n",
    "\n",
    "print('ANNchor Time: %5.3f seconds' % (time.time()-start_time))\n",
    "\n",
    "# Test accuracy\n",
    "error = compare_neighbor_graphs(neighbor_graph,\n",
    "                                ann.neighbor_graph,\n",
    "                                k)\n",
    "print('ANNchor Accuracy: %d incorrect NN pairs (%5.3f%%)' % (error,100*error/(k*nx)))"
   ]
  },
  {
   "cell_type": "code",
   "execution_count": null,
   "metadata": {},
   "outputs": [],
   "source": []
  }
 ],
 "metadata": {
  "kernelspec": {
   "display_name": "Python 3",
   "language": "python",
   "name": "python3"
  },
  "language_info": {
   "codemirror_mode": {
    "name": "ipython",
    "version": 3
   },
   "file_extension": ".py",
   "mimetype": "text/x-python",
   "name": "python",
   "nbconvert_exporter": "python",
   "pygments_lexer": "ipython3",
   "version": "3.8.2"
  }
 },
 "nbformat": 4,
 "nbformat_minor": 4
}
