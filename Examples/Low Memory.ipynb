{
 "cells": [
  {
   "cell_type": "code",
   "execution_count": 1,
   "metadata": {},
   "outputs": [],
   "source": [
    "import numpy as np\n",
    "import time\n",
    "from annchor.datasets import load_digits,load_digits_large\n",
    "import matplotlib.pyplot as plt"
   ]
  },
  {
   "cell_type": "code",
   "execution_count": 2,
   "metadata": {},
   "outputs": [
    {
     "data": {
      "image/png": "[encoded data removed]",
      "text/plain": [
       "<Figure size 432x288 with 10 Axes>"
      ]
     },
     "metadata": {
      "needs_background": "light"
     },
     "output_type": "display_data"
    }
   ],
   "source": [
    "k=25\n",
    "\n",
    "X = load_digits()['X']\n",
    "y = load_digits()['y']\n",
    "neighbor_graph = load_digits()['neighbor_graph']\n",
    "\n",
    "nx = X.shape[0]\n",
    "\n",
    "fig,axs = plt.subplots(2,5)\n",
    "axs = axs.flatten()\n",
    "for i,ax in enumerate(axs):\n",
    "    ax.imshow(X[y==i][0].reshape(8,8))\n",
    "    ax.axis('off')\n",
    "\n",
    "plt.tight_layout(h_pad=0.1, w_pad=0.3)\n",
    "plt.show()"
   ]
  },
  {
   "cell_type": "code",
   "execution_count": 3,
   "metadata": {},
   "outputs": [],
   "source": [
    "from annchor.distances import wasserstein\n",
    "from annchor import compare_neighbor_graphs\n",
    "\n"
   ]
  },
  {
   "cell_type": "code",
   "execution_count": null,
   "metadata": {},
   "outputs": [],
   "source": []
  },
  {
   "cell_type": "code",
   "execution_count": 18,
   "metadata": {},
   "outputs": [
    {
     "name": "stdout",
     "output_type": "stream",
     "text": [
      "ANNchor Time: 22.876 seconds\n",
      "ANNchor Accuracy: 58 incorrect NN pairs (0.129%)\n"
     ]
    }
   ],
   "source": [
    "from annchor import Annchor\n",
    "\n",
    "start_time = time.time()\n",
    "\n",
    "# Call ANNchor\n",
    "ann = Annchor(X,\n",
    "              wasserstein,\n",
    "              n_anchors=25,\n",
    "              n_neighbors=k,\n",
    "              n_samples=5000,\n",
    "              p_work=0.14)\n",
    "self = ann\n",
    "start = time.time()\n",
    "if self.verbose: print('computing anchors...')\n",
    "self.get_anchors()\n",
    "if self.verbose: print('get_anchors:', time.time()-start)\n",
    "\n",
    "if self.verbose: print('computing locality...')\n",
    "self.get_locality()\n",
    "if self.verbose: print('get_locality:', time.time()-start)\n",
    "\n",
    "if self.verbose: print('computing features...')\n",
    "self.get_features()\n",
    "if self.verbose: print('get_features:', time.time()-start)\n",
    "\n",
    "if self.verbose: print('computing sample...')\n",
    "self.get_sample()\n",
    "if self.verbose: print('get_sample:', time.time()-start)\n",
    "\n",
    "if self.verbose: print('fitting regression...')\n",
    "self.fit_predict_regression()\n",
    "if self.verbose: print('fit_predict_regression:', time.time()-start)\n",
    "\n",
    "if self.verbose: print('fitting errors...')\n",
    "self.fit_predict_errors()\n",
    "if self.verbose: print('fit_predict_errors:', time.time()-start)\n",
    "\n",
    "ts = []\n",
    "mx=2\n",
    "for i in range(mx):\n",
    "    if self.verbose: print('selecting/refining candidate pairs (%d/%d)' % (i,mx))\n",
    "    self.select_refine_candidate_pairs(w=1/mx)\n",
    "    if self.verbose: print('select_refine_candidate_pairs:', time.time()-start)\n",
    "    ts.append( self.thresh.copy())\n",
    "    \n",
    "if self.verbose: print('generating neighbour graph')\n",
    "self.get_ann()\n",
    "if self.verbose: print('get_ann:', time.time()-start)\n",
    "            \n",
    "            \n",
    "\n",
    "\n",
    "print('ANNchor Time: %5.3f seconds' % (time.time()-start_time))\n",
    "\n",
    "# Test accuracy\n",
    "error = compare_neighbor_graphs(neighbor_graph,\n",
    "                                ann.neighbor_graph,\n",
    "                                k)\n",
    "print('ANNchor Accuracy: %d incorrect NN pairs (%5.3f%%)' % (error,100*error/(k*nx)))"
   ]
  },
  {
   "cell_type": "code",
   "execution_count": 20,
   "metadata": {},
   "outputs": [
    {
     "data": {
      "image/png": "[encoded data removed]",
      "text/plain": [
       "<Figure size 1080x216 with 1 Axes>"
      ]
     },
     "metadata": {
      "needs_background": "light"
     },
     "output_type": "display_data"
    }
   ],
   "source": [
    "fig,ax = plt.subplots(figsize=(15,3))\n",
    "for i in range(mx-1):\n",
    "    ax.plot(np.sort(ts[i]-ts[i+1]))\n"
   ]
  },
  {
   "cell_type": "code",
   "execution_count": null,
   "metadata": {},
   "outputs": [],
   "source": []
  },
  {
   "cell_type": "code",
   "execution_count": null,
   "metadata": {},
   "outputs": [],
   "source": []
  }
 ],
 "metadata": {
  "kernelspec": {
   "display_name": "Python 3",
   "language": "python",
   "name": "python3"
  },
  "language_info": {
   "codemirror_mode": {
    "name": "ipython",
    "version": 3
   },
   "file_extension": ".py",
   "mimetype": "text/x-python",
   "name": "python",
   "nbconvert_exporter": "python",
   "pygments_lexer": "ipython3",
   "version": "3.8.2"
  }
 },
 "nbformat": 4,
 "nbformat_minor": 4
}
