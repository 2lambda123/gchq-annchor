{
 "cells": [
  {
   "cell_type": "code",
   "execution_count": 1,
   "metadata": {},
   "outputs": [],
   "source": [
    "import numpy as np\n",
    "import time\n",
    "import matplotlib.pyplot as plt"
   ]
  },
  {
   "cell_type": "code",
   "execution_count": 2,
   "metadata": {},
   "outputs": [],
   "source": [
    "from annchor.distances import wasserstein\n",
    "from annchor import compare_neighbor_graphs\n",
    "\n"
   ]
  },
  {
   "cell_type": "code",
   "execution_count": 3,
   "metadata": {},
   "outputs": [
    {
     "data": {
      "text/plain": [
       "0.8606460035963592"
      ]
     },
     "execution_count": 3,
     "metadata": {},
     "output_type": "execute_result"
    }
   ],
   "source": [
    "np.random.seed(1)\n",
    "nx = 10000\n",
    "X=np.random.random(size=(nx,5))\n",
    "from numba import njit\n",
    "@njit\n",
    "def f(x,y):\n",
    "    return np.linalg.norm(x-y)\n",
    "\n",
    "f(X[nx-3],X[3])"
   ]
  },
  {
   "cell_type": "code",
   "execution_count": 4,
   "metadata": {},
   "outputs": [
    {
     "name": "stdout",
     "output_type": "stream",
     "text": [
      "Brute Force Time: 92.293 seconds\n"
     ]
    }
   ],
   "source": [
    "from annchor import BruteForce\n",
    "\n",
    "start_time = time.time()\n",
    "\n",
    "bruteforce = BruteForce(X,f)\n",
    "bruteforce.get_neighbor_graph()\n",
    "\n",
    "print('Brute Force Time: %5.3f seconds' % (time.time()-start_time))\n",
    "\n",
    "neighbor_graph = bruteforce.neighbor_graph\n",
    "\n",
    "\n"
   ]
  },
  {
   "cell_type": "code",
   "execution_count": 17,
   "metadata": {},
   "outputs": [
    {
     "name": "stdout",
     "output_type": "stream",
     "text": [
      "computing anchors...\n",
      "get_anchors: 0.8531908988952637\n",
      "computing locality...\n",
      "get_locality: 2.3705790042877197\n",
      "computing features...\n",
      "get_features: 23.958975076675415\n",
      "computing sample...\n",
      "get_sample: 35.947726011276245\n",
      "fitting regression...\n",
      "fit_predict_regression: 47.513323068618774\n",
      "fitting errors...\n",
      "fit_predict_errors: 48.84856700897217\n",
      "selecting/refining candidate pairs (1)\n",
      "select_refine_candidate_pairs: 61.950567960739136\n",
      "selecting/refining candidate pairs (2)\n",
      "select_refine_candidate_pairs: 74.28281307220459\n",
      "generating neighbour graph\n",
      "get_ann: 75.58573913574219\n",
      "ANNchor Time: 75.605 seconds\n",
      "ANNchor Accuracy: 7 incorrect NN pairs (0.003%)\n"
     ]
    }
   ],
   "source": [
    "from annchor import Annchor\n",
    "k=25\n",
    "start_time = time.time()\n",
    "\n",
    "# Call ANNchor\n",
    "ann = Annchor(X,\n",
    "              f,\n",
    "              n_anchors=30,\n",
    "              n_neighbors=k,\n",
    "              n_samples=5000,\n",
    "              p_work=0.02,\n",
    "             verbose=True)\n",
    "\n",
    "ann.fit()\n",
    "\n",
    "print('ANNchor Time: %5.3f seconds' % (time.time()-start_time))\n",
    "\n",
    "# Test accuracy\n",
    "error = compare_neighbor_graphs(neighbor_graph,\n",
    "                                ann.neighbor_graph,\n",
    "                                k)\n",
    "print('ANNchor Accuracy: %d incorrect NN pairs (%5.3f%%)' % (error,100*error/(k*nx)))"
   ]
  },
  {
   "cell_type": "code",
   "execution_count": null,
   "metadata": {},
   "outputs": [],
   "source": []
  },
  {
   "cell_type": "code",
   "execution_count": 277,
   "metadata": {},
   "outputs": [],
   "source": [
    "start = time.time()\n",
    "IJs = np.hstack([ fF(self.check,i) for i in range(self.nx)])\n",
    "IJs = gG(IJs,self.nx)\n",
    "IJs = IJs.T\n",
    "\n",
    "\n",
    "n = IJs.shape[0]\n",
    "\n",
    "isort = np.arange(n).astype(np.int64)\n",
    "jsort = np.argsort( IJs[:,1]).astype(np.int64)\n",
    "fi = IJs[:,0]\n",
    "fj = IJs[jsort,1]"
   ]
  },
  {
   "cell_type": "code",
   "execution_count": 283,
   "metadata": {},
   "outputs": [
    {
     "data": {
      "text/plain": [
       "True"
      ]
     },
     "execution_count": 283,
     "metadata": {},
     "output_type": "execute_result"
    }
   ],
   "source": [
    "np.all(IJs[:,0]==np.sort(IJs[:,0]))"
   ]
  },
  {
   "cell_type": "code",
   "execution_count": null,
   "metadata": {},
   "outputs": [],
   "source": []
  }
 ],
 "metadata": {
  "kernelspec": {
   "display_name": "Python 3",
   "language": "python",
   "name": "python3"
  },
  "language_info": {
   "codemirror_mode": {
    "name": "ipython",
    "version": 3
   },
   "file_extension": ".py",
   "mimetype": "text/x-python",
   "name": "python",
   "nbconvert_exporter": "python",
   "pygments_lexer": "ipython3",
   "version": "3.8.2"
  }
 },
 "nbformat": 4,
 "nbformat_minor": 4
}
