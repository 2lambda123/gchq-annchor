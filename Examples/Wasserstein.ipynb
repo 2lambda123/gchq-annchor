{
 "cells": [
  {
   "cell_type": "code",
   "execution_count": 1,
   "metadata": {},
   "outputs": [],
   "source": [
    "# requires matplotlib (pip install matplotlib)\n",
    "import numpy as np\n",
    "import time\n",
    "from annchor.datasets import load_digits\n",
    "import matplotlib.pyplot as plt"
   ]
  },
  {
   "cell_type": "code",
   "execution_count": 8,
   "metadata": {},
   "outputs": [
    {
     "data": {
      "image/png": "[encoded data removed]",
      "text/plain": [
       "<Figure size 432x288 with 10 Axes>"
      ]
     },
     "metadata": {
      "needs_background": "light"
     },
     "output_type": "display_data"
    }
   ],
   "source": [
    "k=25\n",
    "\n",
    "X = load_digits()['X']\n",
    "y = load_digits()['y']\n",
    "neighbor_graph = load_digits()['neighbor_graph']\n",
    "\n",
    "nx = X.shape[0]\n",
    "\n",
    "fig,axs = plt.subplots(2,5)\n",
    "axs = axs.flatten()\n",
    "for i,ax in enumerate(axs):\n",
    "    ax.imshow(X[y==i][0].reshape(8,8))\n",
    "    ax.axis('off')\n",
    "\n",
    "plt.tight_layout(h_pad=0.1, w_pad=0.3)\n",
    "plt.show()"
   ]
  },
  {
   "cell_type": "code",
   "execution_count": null,
   "metadata": {},
   "outputs": [],
   "source": []
  },
  {
   "cell_type": "code",
   "execution_count": 9,
   "metadata": {},
   "outputs": [],
   "source": [
    "from annchor.distances import wasserstein\n",
    "from annchor import compare_neighbor_graphs\n",
    "\n"
   ]
  },
  {
   "cell_type": "code",
   "execution_count": 10,
   "metadata": {},
   "outputs": [
    {
     "name": "stdout",
     "output_type": "stream",
     "text": [
      "Brute Force Time: 76.201 seconds\n",
      "Brute Force Accuracy: 0 incorrect NN pairs (0.000%)\n"
     ]
    }
   ],
   "source": [
    "from annchor import BruteForce\n",
    "\n",
    "start_time = time.time()\n",
    "\n",
    "bruteforce = BruteForce(X,wasserstein)\n",
    "bruteforce.fit()\n",
    "\n",
    "print('Brute Force Time: %5.3f seconds' % (time.time()-start_time))\n",
    "\n",
    "error = compare_neighbor_graphs(neighbor_graph,\n",
    "                                bruteforce.neighbor_graph,\n",
    "                                25)\n",
    "\n",
    "print('Brute Force Accuracy: %d incorrect NN pairs (%5.3f%%)' % (error,100*error/(k*nx)))"
   ]
  },
  {
   "cell_type": "code",
   "execution_count": 11,
   "metadata": {},
   "outputs": [
    {
     "name": "stdout",
     "output_type": "stream",
     "text": [
      "PyNND Time: 56.181 seconds\n",
      "PyNND Accuracy: 29 incorrect NN pairs (0.065%)\n"
     ]
    }
   ],
   "source": [
    "from pynndescent import NNDescent\n",
    "\n",
    "start_time = time.time()\n",
    "\n",
    "# Call nearest neighbour descent\n",
    "nndescent = NNDescent(X,n_neighbors=k,metric=wasserstein,random_state=1)\n",
    "print('PyNND Time: %5.3f seconds' % (time.time()-start_time))\n",
    "\n",
    "# Test accuracy\n",
    "error = compare_neighbor_graphs(neighbor_graph,\n",
    "                                nndescent.neighbor_graph,\n",
    "                                25)\n",
    "print('PyNND Accuracy: %d incorrect NN pairs (%5.3f%%)' % (error,100*error/(k*nx)))"
   ]
  },
  {
   "cell_type": "code",
   "execution_count": 12,
   "metadata": {},
   "outputs": [
    {
     "name": "stdout",
     "output_type": "stream",
     "text": [
      "ANNchor Time: 15.446 seconds\n",
      "ANNchor Accuracy: 6 incorrect NN pairs (0.013%)\n"
     ]
    }
   ],
   "source": [
    "from annchor import Annchor\n",
    "\n",
    "\n",
    "start_time = time.time()\n",
    "\n",
    "# Call ANNchor\n",
    "ann = Annchor(X,\n",
    "              wasserstein,\n",
    "              n_anchors=25,\n",
    "              n_neighbors=k,\n",
    "              n_samples=5000,\n",
    "              p_work=0.16)\n",
    "\n",
    "ann.fit()\n",
    "print('ANNchor Time: %5.3f seconds' % (time.time()-start_time))\n",
    "\n",
    "\n",
    "# Test accuracy\n",
    "error = compare_neighbor_graphs(neighbor_graph,\n",
    "                                ann.neighbor_graph,\n",
    "                                25)\n",
    "print('ANNchor Accuracy: %d incorrect NN pairs (%5.3f%%)' % (error,100*error/(k*nx)))"
   ]
  },
  {
   "cell_type": "code",
   "execution_count": 13,
   "metadata": {},
   "outputs": [
    {
     "name": "stdout",
     "output_type": "stream",
     "text": [
      "PyNND Time: 192.754 seconds\n",
      "PyNND Accuracy: 86 incorrect NN pairs (0.061%)\n",
      "ANNchor Time: 91.826 seconds\n",
      "ANNchor Accuracy: 1 incorrect NN pairs (0.001%)\n"
     ]
    }
   ],
   "source": [
    "# Load the data\n",
    "from annchor.datasets import load_digits_large\n",
    "\n",
    "k=25\n",
    "\n",
    "X = load_digits_large()['X']\n",
    "y = load_digits_large()['y']\n",
    "neighbor_graph = load_digits_large()['neighbor_graph']\n",
    "\n",
    "nx = X.shape[0]\n",
    "\n",
    "\n",
    "start_time = time.time()\n",
    "\n",
    "## Call nearest neighbour descent\n",
    "nndescent = NNDescent(X,n_neighbors=k,metric=wasserstein,random_state=1)\n",
    "print('PyNND Time: %5.3f seconds' % (time.time()-start_time))\n",
    "\n",
    "## Test accuracy\n",
    "error = compare_neighbor_graphs(neighbor_graph,\n",
    "                                nndescent.neighbor_graph,\n",
    "                                k)\n",
    "print('PyNND Accuracy: %d incorrect NN pairs (%5.3f%%)' % (error,100*error/(k*nx)))\n",
    "\n",
    "\n",
    "from annchor import Annchor\n",
    "\n",
    "start_time = time.time()\n",
    "\n",
    "# Call ANNchor\n",
    "ann = Annchor(X,\n",
    "              wasserstein,\n",
    "              n_anchors=30,\n",
    "              n_neighbors=k,\n",
    "              n_samples=5000,\n",
    "              p_work=0.1)\n",
    "\n",
    "ann.fit()\n",
    "print('ANNchor Time: %5.3f seconds' % (time.time()-start_time))\n",
    "\n",
    "\n",
    "# Test accuracy\n",
    "error = compare_neighbor_graphs(neighbor_graph,\n",
    "                                ann.neighbor_graph,\n",
    "                                k)\n",
    "print('ANNchor Accuracy: %d incorrect NN pairs (%5.3f%%)' % (error,100*error/(k*nx)))"
   ]
  },
  {
   "cell_type": "code",
   "execution_count": null,
   "metadata": {},
   "outputs": [],
   "source": []
  },
  {
   "cell_type": "code",
   "execution_count": null,
   "metadata": {},
   "outputs": [],
   "source": []
  }
 ],
 "metadata": {
  "kernelspec": {
   "display_name": "Python 3 (ipykernel)",
   "language": "python",
   "name": "python3"
  },
  "language_info": {
   "codemirror_mode": {
    "name": "ipython",
    "version": 3
   },
   "file_extension": ".py",
   "mimetype": "text/x-python",
   "name": "python",
   "nbconvert_exporter": "python",
   "pygments_lexer": "ipython3",
   "version": "3.7.10"
  }
 },
 "nbformat": 4,
 "nbformat_minor": 4
}
