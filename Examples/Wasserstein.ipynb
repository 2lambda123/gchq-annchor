{
 "cells": [
  {
   "cell_type": "markdown",
   "metadata": {},
   "source": [
    "# Wasserstein Example (Handwritten Digits)\n",
    "In this notebook we use wasserstein (Earth Mover) distance to compare handwritten digits from the UCI Machine Learning repository"
   ]
  },
  {
   "cell_type": "code",
   "execution_count": null,
   "metadata": {},
   "outputs": [],
   "source": [
    "# Import modules\n",
    "\n",
    "import numpy as np\n",
    "import time\n",
    "import matplotlib.pyplot as plt\n",
    "\n",
    "from annchor import Annchor, BruteForce, compare_neighbor_graphs\n",
    "from annchor.datasets import load_digits, load_digits_large\n"
   ]
  },
  {
   "cell_type": "code",
   "execution_count": null,
   "metadata": {},
   "outputs": [],
   "source": [
    "# View the data set, and set some parameters\n",
    "\n",
    "k=25 # n_neighbours parameter (i.e. the k in k-NN)\n",
    "\n",
    "data = load_digits()\n",
    "X = data['X']\n",
    "y = data['y']\n",
    "neighbor_graph = data['neighbor_graph']\n",
    "M = data['cost_matrix']\n",
    "\n",
    "nx = X.shape[0]\n",
    "print('Data set contains %d digits' % nx)\n",
    "\n",
    "fig,axs = plt.subplots(2,5)\n",
    "axs = axs.flatten()\n",
    "for i,ax in enumerate(axs):\n",
    "    ax.imshow(X[y==i][0].reshape(8,8))\n",
    "    ax.axis('off')\n",
    "\n",
    "plt.tight_layout(h_pad=0.1, w_pad=0.3)\n",
    "plt.show()"
   ]
  },
  {
   "cell_type": "markdown",
   "metadata": {},
   "source": [
    "As shown above, each image is an 8x8 grid of pixels, and there are 1797 digits in total.\n"
   ]
  },
  {
   "cell_type": "markdown",
   "metadata": {},
   "source": [
    "## Using Annchor\n",
    "\n",
    "Let's see how we use annchor to find the k-NN graph for this data set.\n",
    "\n",
    "Specifically, we will use the wasserstein distance, which is a nice metric for comparing images. This metric requires a cost function, which is supplied as a keyword argument. We will use 25 anchor points, a sample size of 5000, and aim to use only 16% of the work required by the brute force the solution.\n",
    "\n",
    "\n",
    "\n",
    "(Remember that the first time we run annchor will be longer than usual due to the numba.jit compile time overhead, so run this cell twice to get a good idea of timings)"
   ]
  },
  {
   "cell_type": "code",
   "execution_count": null,
   "metadata": {},
   "outputs": [],
   "source": [
    "start_time = time.time()\n",
    "\n",
    "# Call ANNchor\n",
    "ann = Annchor(X, # Input our data set\n",
    "              'wasserstein', # Use the wasserstein metric\n",
    "              func_kwargs = {'cost_matrix': M}, # Supply the cost function\n",
    "              n_anchors=25,\n",
    "              n_neighbors=k,\n",
    "              n_samples=5000,\n",
    "              p_work=0.16)\n",
    "\n",
    "ann.fit()\n",
    "print('ANNchor Time: %5.3f seconds' % (time.time()-start_time))\n",
    "\n",
    "\n",
    "# Test accuracy\n",
    "error = compare_neighbor_graphs(neighbor_graph,\n",
    "                                ann.neighbor_graph,\n",
    "                                25)\n",
    "print('ANNchor Accuracy: %d incorrect NN pairs (%5.3f%%)' % (error,100*error/(k*nx)))"
   ]
  },
  {
   "cell_type": "code",
   "execution_count": null,
   "metadata": {},
   "outputs": [],
   "source": []
  },
  {
   "cell_type": "markdown",
   "metadata": {},
   "source": [
    "## Comparison with other techniques\n",
    "Now compare this to Brute Force, or the pynndescent library (Annchor comes with a built in brute force option).\n",
    "\n",
    "### Brute Force\n",
    "The next cell uses annchors brute force implimentation (which is parallelised by default)"
   ]
  },
  {
   "cell_type": "code",
   "execution_count": null,
   "metadata": {},
   "outputs": [],
   "source": [
    "start_time = time.time()\n",
    "\n",
    "bruteforce = BruteForce(X,\n",
    "                        'wasserstein',\n",
    "                        func_kwargs = {'cost_matrix': M}\n",
    "                       )\n",
    "bruteforce.fit()\n",
    "\n",
    "print('Brute Force Time: %5.3f seconds' % (time.time()-start_time))\n",
    "\n",
    "error = compare_neighbor_graphs(neighbor_graph,\n",
    "                                bruteforce.neighbor_graph,\n",
    "                                10)\n",
    "\n",
    "print('Brute Force Accuracy: %d incorrect NN pairs (%5.3f%%)' % (error,100*error/(k*nx)))"
   ]
  },
  {
   "cell_type": "markdown",
   "metadata": {},
   "source": [
    "### Pynndescent"
   ]
  },
  {
   "cell_type": "code",
   "execution_count": null,
   "metadata": {},
   "outputs": [],
   "source": [
    "from pynndescent import NNDescent\n",
    "from pynndescent.distances import kantorovich\n",
    "from numba import njit\n",
    "\n",
    "@njit()\n",
    "def wasserstein(x, y):\n",
    "    return kantorovich(x,y,cost=M)\n",
    "\n",
    "start_time = time.time()\n",
    "\n",
    "# Call nearest neighbour descent\n",
    "nndescent = NNDescent(X,n_neighbors=k,metric=wasserstein,random_state=1)\n",
    "print('PyNND Time: %5.3f seconds' % (time.time()-start_time))\n",
    "\n",
    "# Test accuracy\n",
    "error = compare_neighbor_graphs(neighbor_graph,\n",
    "                                nndescent.neighbor_graph,\n",
    "                                25)\n",
    "print('PyNND Accuracy: %d incorrect NN pairs (%5.3f%%)' % (error,100*error/(k*nx)))"
   ]
  },
  {
   "cell_type": "code",
   "execution_count": null,
   "metadata": {},
   "outputs": [],
   "source": []
  },
  {
   "cell_type": "markdown",
   "metadata": {},
   "source": [
    "## A Larger Example\n",
    "This example uses the load_digits_large data set, which is similar to the previous data set but with more digits (5620 to be exact). We compare Annchor to Pynndescent."
   ]
  },
  {
   "cell_type": "code",
   "execution_count": null,
   "metadata": {},
   "outputs": [],
   "source": [
    "# Load the data\n",
    "\n",
    "k=25\n",
    "\n",
    "data = load_digits_large()\n",
    "X = data['X']\n",
    "y = data['y']\n",
    "neighbor_graph = data['neighbor_graph']\n",
    "M = data['cost_matrix']\n",
    "nx = X.shape[0]\n",
    "\n",
    "\n",
    "# ANNchor\n",
    "\n",
    "\n",
    "start_time = time.time()\n",
    "\n",
    "ann = Annchor(X,\n",
    "              wasserstein,\n",
    "              n_anchors=30,\n",
    "              n_neighbors=k,\n",
    "              n_samples=5000,\n",
    "              p_work=0.1)\n",
    "\n",
    "ann.fit()\n",
    "print('ANNchor Time: %5.3f seconds' % (time.time()-start_time))\n",
    "\n",
    "\n",
    "# Test accuracy\n",
    "error = compare_neighbor_graphs(neighbor_graph,\n",
    "                                ann.neighbor_graph,\n",
    "                                k)\n",
    "print('ANNchor Accuracy: %d incorrect NN pairs (%5.3f%%)' % (error,100*error/(k*nx)))\n",
    "\n",
    "\n",
    "## Pynndescent\n",
    "\n",
    "start_time = time.time()\n",
    "\n",
    "## Call nearest neighbour descent\n",
    "nndescent = NNDescent(X,n_neighbors=k,metric=wasserstein,random_state=1)\n",
    "print('PyNND Time: %5.3f seconds' % (time.time()-start_time))\n",
    "\n",
    "## Test accuracy\n",
    "error = compare_neighbor_graphs(neighbor_graph,\n",
    "                                nndescent.neighbor_graph,\n",
    "                                k)\n",
    "print('PyNND Accuracy: %d incorrect NN pairs (%5.3f%%)' % (error,100*error/(k*nx)))\n",
    "\n",
    "\n"
   ]
  }
 ],
 "metadata": {
  "kernelspec": {
   "display_name": "Python 3",
   "language": "python",
   "name": "python3"
  },
  "language_info": {
   "codemirror_mode": {
    "name": "ipython",
    "version": 3
   },
   "file_extension": ".py",
   "mimetype": "text/x-python",
   "name": "python",
   "nbconvert_exporter": "python",
   "pygments_lexer": "ipython3",
   "version": "3.8.2"
  }
 },
 "nbformat": 4,
 "nbformat_minor": 4
}
