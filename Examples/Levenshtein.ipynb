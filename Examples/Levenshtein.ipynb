{
 "cells": [
  {
   "cell_type": "code",
   "execution_count": 1,
   "metadata": {},
   "outputs": [
    {
     "name": "stdout",
     "output_type": "stream",
     "text": [
      "cuiojvfnseoksugfcbwzrcoxtjxrvojrguqttjpeauenefmkmv...\n",
      "uiofnsosungdgrxiiprvojrgujfdttjioqunknefamhlkyihvx...\n",
      "cxumzfltweskptzwnlgojkdxidrebonxcmxvbgxayoachwfcsy...\n",
      "cmjpuuozflodwqvkascdyeosakdupdoeovnbgxpajotahpwaqc...\n",
      "vzdiefjmblnumdjeetvbvhwgyasygrzhuckvpclnmtviobpzvy...\n",
      "nziejmbmknuxdhjbgeyvwgasygrhcpdxcgnmtviubjvyzjemll...\n",
      "yhdpczcjxirmebhfdueskkjjtbclvncxjrstxhqvtoyamaiyyb...\n",
      "yfhwczcxakdtenvbfctugnkkkjbcvxcxjwfrgcstahaxyiooeb...\n",
      "yoftbrcmmpngdfzrbyltahrfbtyowpdjrnqlnxncutdovbgabo...\n",
      "tyoqbywjhdwzoufzrqyltahrefbdzyunpdypdynrmchutdvsbl...\n",
      "dopgwqjiehqqhmprvhqmnlbpuwszjkjjbshqofaqeoejtcegjt...\n",
      "rahobdixljmjfysmegdwyzyezulajkzloaxqnipgxhhbyoztzn...\n",
      "dfgxsltkbpxvgqptghjnkaoofbwqqdnqlbbzjsqubtfwovkbsk...\n",
      "pjwamicvegedmfetridbijgafupsgieffcwnmgmptjwnmwegvn...\n",
      "ovitcihpokhyldkuvgahnqnmixsakzbmsipqympnxtucivgqyi...\n",
      "xvepnposhktvmutozuhkbqarqsbxjrhxuumofmtyaaeesbeuhf...\n"
     ]
    }
   ],
   "source": [
    "import numpy as np\n",
    "import time\n",
    "import Levenshtein as lev\n",
    "import os\n",
    "from annchor.datasets import load_strings\n",
    "\n",
    "\n",
    "k=15\n",
    "\n",
    "def levdist(a,b):\n",
    "    return lev.distance(a,b)\n",
    "\n",
    "strings_data = load_strings()\n",
    "X = strings_data['X']\n",
    "y = strings_data['y']\n",
    "neighbor_graph = strings_data['neighbor_graph']\n",
    "\n",
    "nx = X.shape[0]\n",
    "\n",
    "for x in X[::100]:\n",
    "    print(x[:50]+'...')"
   ]
  },
  {
   "cell_type": "code",
   "execution_count": 2,
   "metadata": {},
   "outputs": [],
   "source": [
    "from annchor import compare_neighbor_graphs\n"
   ]
  },
  {
   "cell_type": "code",
   "execution_count": 3,
   "metadata": {},
   "outputs": [
    {
     "name": "stdout",
     "output_type": "stream",
     "text": [
      "Brute Force Time: 186.912 seconds\n",
      "Brute Force Accuracy: 0 incorrect NN pairs (0.000%)\n"
     ]
    }
   ],
   "source": [
    "from annchor import BruteForce\n",
    "\n",
    "start_time = time.time()\n",
    "\n",
    "bruteforce = BruteForce(X,levdist)\n",
    "bruteforce.get_neighbor_graph()\n",
    "\n",
    "print('Brute Force Time: %5.3f seconds' % (time.time()-start_time))\n",
    "\n",
    "error = compare_neighbor_graphs(neighbor_graph,\n",
    "                                bruteforce.neighbor_graph,\n",
    "                                k)\n",
    "\n",
    "print('Brute Force Accuracy: %d incorrect NN pairs (%5.3f%%)' % (error,100*error/(k*nx)))"
   ]
  },
  {
   "cell_type": "code",
   "execution_count": null,
   "metadata": {},
   "outputs": [],
   "source": []
  },
  {
   "cell_type": "code",
   "execution_count": 4,
   "metadata": {},
   "outputs": [
    {
     "name": "stdout",
     "output_type": "stream",
     "text": [
      "HNSW Time: 280.623 seconds\n",
      "HNSW Accuracy: 10 incorrect NN pairs (0.042%)\n"
     ]
    }
   ],
   "source": [
    "import nmslib\n",
    "\n",
    "start_time = time.time()\n",
    "\n",
    "# specify some parameters\n",
    "CPU_COUNT = os.cpu_count()\n",
    "\n",
    "index_time_params = {'M': 20,\n",
    "                     'indexThreadQty': CPU_COUNT,\n",
    "                     'efConstruction': 100,\n",
    "                     'post' : 2}\n",
    "\n",
    "# create the index\n",
    "index = nmslib.init(method='hnsw',\n",
    "                    space='leven',\n",
    "                    dtype=nmslib.DistType.INT,\n",
    "                    data_type=nmslib.DataType.OBJECT_AS_STRING)\n",
    "\n",
    "index.addDataPointBatch(data=list(X))\n",
    "index.createIndex(index_time_params,print_progress=True)\n",
    "\n",
    "# query the index\n",
    "res = index.knnQueryBatch(list(X), k=k, num_threads=CPU_COUNT)\n",
    "hnsw_neighbor_graph = [np.array([x[0]for x in res]),np.array([x[1]for x in res])]\n",
    "print('HNSW Time: %5.3f seconds' % (time.time()-start_time))\n",
    "\n",
    "\n",
    "error = compare_neighbor_graphs(neighbor_graph,\n",
    "                                hnsw_neighbor_graph,\n",
    "                                k)\n",
    "\n",
    "print('HNSW Accuracy: %d incorrect NN pairs (%5.3f%%)' % (error,100*error/(k*nx)))"
   ]
  },
  {
   "cell_type": "code",
   "execution_count": null,
   "metadata": {},
   "outputs": [],
   "source": []
  },
  {
   "cell_type": "code",
   "execution_count": 6,
   "metadata": {},
   "outputs": [
    {
     "name": "stdout",
     "output_type": "stream",
     "text": [
      "ANNchor Time: 33.655 seconds\n",
      "ANNchor Accuracy: 17 incorrect NN pairs (0.071%)\n"
     ]
    }
   ],
   "source": [
    "from annchor import Annchor\n",
    "\n",
    "start_time = time.time()\n",
    "ann = Annchor(X,\n",
    "              levdist,\n",
    "              n_anchors=23,\n",
    "              n_neighbors=k,\n",
    "              random_seed=5,\n",
    "              n_samples=5000,\n",
    "              p_work=0.12)\n",
    "\n",
    "ann.fit()\n",
    "print('ANNchor Time: %5.3f seconds' % (time.time()-start_time))\n",
    "\n",
    "\n",
    "# Test accuracy\n",
    "error = compare_neighbor_graphs(neighbor_graph,\n",
    "                                ann.neighbor_graph,\n",
    "                                k)\n",
    "print('ANNchor Accuracy: %d incorrect NN pairs (%5.3f%%)' % (error,100*error/(k*nx)))"
   ]
  },
  {
   "cell_type": "code",
   "execution_count": null,
   "metadata": {},
   "outputs": [],
   "source": []
  }
 ],
 "metadata": {
  "kernelspec": {
   "display_name": "Python 3",
   "language": "python",
   "name": "python3"
  },
  "language_info": {
   "codemirror_mode": {
    "name": "ipython",
    "version": 3
   },
   "file_extension": ".py",
   "mimetype": "text/x-python",
   "name": "python",
   "nbconvert_exporter": "python",
   "pygments_lexer": "ipython3",
   "version": "3.8.2"
  }
 },
 "nbformat": 4,
 "nbformat_minor": 4
}
