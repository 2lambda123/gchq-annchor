{
 "cells": [
  {
   "cell_type": "markdown",
   "metadata": {},
   "source": [
    "# Levenshtein Example (strings data set)\n",
    "In this notebook we use levenshtein (edit distance) to compare strings from annchors string data set."
   ]
  },
  {
   "cell_type": "code",
   "execution_count": 1,
   "metadata": {},
   "outputs": [],
   "source": [
    "# requires python-levenshtein (pip install python-Levenshtein)\n",
    "# requires nmslib (pip install nmslib)\n",
    "import numpy as np\n",
    "import time\n",
    "import Levenshtein as lev\n",
    "import os\n",
    "\n",
    "from annchor import Annchor, BruteForce, compare_neighbor_graphs\n",
    "from annchor.datasets import load_strings\n",
    "from annchor import compare_neighbor_graphs"
   ]
  },
  {
   "cell_type": "code",
   "execution_count": 2,
   "metadata": {},
   "outputs": [
    {
     "name": "stdout",
     "output_type": "stream",
     "text": [
      "cuiojvfnseoksugfcbwzrcoxtjxrvojrguqttjpeauenefmkmv...\n",
      "uiofnsosungdgrxiiprvojrgujfdttjioqunknefamhlkyihvx...\n",
      "cxumzfltweskptzwnlgojkdxidrebonxcmxvbgxayoachwfcsy...\n",
      "cmjpuuozflodwqvkascdyeosakdupdoeovnbgxpajotahpwaqc...\n",
      "vzdiefjmblnumdjeetvbvhwgyasygrzhuckvpclnmtviobpzvy...\n",
      "nziejmbmknuxdhjbgeyvwgasygrhcpdxcgnmtviubjvyzjemll...\n",
      "yhdpczcjxirmebhfdueskkjjtbclvncxjrstxhqvtoyamaiyyb...\n",
      "yfhwczcxakdtenvbfctugnkkkjbcvxcxjwfrgcstahaxyiooeb...\n",
      "yoftbrcmmpngdfzrbyltahrfbtyowpdjrnqlnxncutdovbgabo...\n",
      "tyoqbywjhdwzoufzrqyltahrefbdzyunpdypdynrmchutdvsbl...\n",
      "dopgwqjiehqqhmprvhqmnlbpuwszjkjjbshqofaqeoejtcegjt...\n",
      "rahobdixljmjfysmegdwyzyezulajkzloaxqnipgxhhbyoztzn...\n",
      "dfgxsltkbpxvgqptghjnkaoofbwqqdnqlbbzjsqubtfwovkbsk...\n",
      "pjwamicvegedmfetridbijgafupsgieffcwnmgmptjwnmwegvn...\n",
      "ovitcihpokhyldkuvgahnqnmixsakzbmsipqympnxtucivgqyi...\n",
      "xvepnposhktvmutozuhkbqarqsbxjrhxuumofmtyaaeesbeuhf...\n"
     ]
    }
   ],
   "source": [
    "k=15\n",
    "\n",
    "strings_data = load_strings()\n",
    "X = strings_data['X']\n",
    "y = strings_data['y']\n",
    "neighbor_graph = strings_data['neighbor_graph']\n",
    "\n",
    "nx = X.shape[0]\n",
    "\n",
    "for x in X[::100]:\n",
    "    print(x[:50]+'...')"
   ]
  },
  {
   "cell_type": "markdown",
   "metadata": {},
   "source": [
    "## Using Annchor\n",
    "\n",
    "Let's see how we use annchor to find the k-NN graph for this data set.\n",
    "\n",
    "Levenshtein distance is included in Annchor, we can simply specify the metric by the string 'levenshtein'.\n",
    "We will use 23 anchor points, a sample size of 5000, and aim to use only 12% of the work required to brute force the solution.\n",
    "\n",
    "\n",
    "\n",
    "(Remember that the first time we run annchor will be longer than usual due to the numba.jit compile time overhead, so run this cell twice to get a good idea of timings)"
   ]
  },
  {
   "cell_type": "code",
   "execution_count": 4,
   "metadata": {},
   "outputs": [
    {
     "name": "stdout",
     "output_type": "stream",
     "text": [
      "ANNchor Time: 28.269 seconds\n",
      "ANNchor Accuracy: 0 incorrect NN pairs (0.000%)\n"
     ]
    }
   ],
   "source": [
    "start_time = time.time()\n",
    "\n",
    "ann = Annchor(X,\n",
    "              'levenshtein',\n",
    "              n_anchors=23,\n",
    "              n_neighbors=k,\n",
    "              random_seed=5,\n",
    "              n_samples=5000,\n",
    "              p_work=0.12,\n",
    "              niters=4)\n",
    "\n",
    "ann.fit()\n",
    "print('ANNchor Time: %5.3f seconds' % (time.time()-start_time))\n",
    "\n",
    "\n",
    "# Test accuracy\n",
    "error = compare_neighbor_graphs(neighbor_graph,\n",
    "                                ann.neighbor_graph,\n",
    "                                k)\n",
    "print('ANNchor Accuracy: %d incorrect NN pairs (%5.3f%%)' % (error,100*error/(k*nx)))"
   ]
  },
  {
   "cell_type": "markdown",
   "metadata": {},
   "source": [
    "## Comparison with other techniques\n",
    "Now compare this to Brute Force, or the nmslib library (Annchor comes with a built in brute force option).\n",
    "\n",
    "### Brute Force\n",
    "The next cell uses annchors brute force implimentation (which is parallelised by default)"
   ]
  },
  {
   "cell_type": "code",
   "execution_count": 5,
   "metadata": {},
   "outputs": [
    {
     "name": "stdout",
     "output_type": "stream",
     "text": [
      "Brute Force Time: 211.568 seconds\n",
      "Brute Force Accuracy: 0 incorrect NN pairs (0.000%)\n"
     ]
    }
   ],
   "source": [
    "start_time = time.time()\n",
    "\n",
    "bruteforce = BruteForce(X,'levenshtein')\n",
    "bruteforce.fit()\n",
    "\n",
    "print('Brute Force Time: %5.3f seconds' % (time.time()-start_time))\n",
    "\n",
    "error = compare_neighbor_graphs(neighbor_graph,\n",
    "                                bruteforce.neighbor_graph,\n",
    "                                k)\n",
    "\n",
    "print('Brute Force Accuracy: %d incorrect NN pairs (%5.3f%%)' % (error,100*error/(k*nx)))"
   ]
  },
  {
   "cell_type": "markdown",
   "metadata": {},
   "source": [
    "### nmslib"
   ]
  },
  {
   "cell_type": "code",
   "execution_count": 6,
   "metadata": {},
   "outputs": [
    {
     "name": "stdout",
     "output_type": "stream",
     "text": [
      "HNSW Time: 312.774 seconds\n",
      "HNSW Accuracy: 12 incorrect NN pairs (0.050%)\n"
     ]
    }
   ],
   "source": [
    "import nmslib\n",
    "\n",
    "start_time = time.time()\n",
    "\n",
    "# specify some parameters\n",
    "CPU_COUNT = os.cpu_count()\n",
    "\n",
    "index_time_params = {'M': 20,\n",
    "                     'indexThreadQty': CPU_COUNT,\n",
    "                     'efConstruction': 100,\n",
    "                     'post' : 2}\n",
    "\n",
    "# create the index\n",
    "index = nmslib.init(method='hnsw',\n",
    "                    space='leven',\n",
    "                    dtype=nmslib.DistType.INT,\n",
    "                    data_type=nmslib.DataType.OBJECT_AS_STRING)\n",
    "\n",
    "index.addDataPointBatch(data=list(X))\n",
    "index.createIndex(index_time_params,print_progress=True)\n",
    "\n",
    "# query the index\n",
    "res = index.knnQueryBatch(list(X), k=k, num_threads=CPU_COUNT)\n",
    "hnsw_neighbor_graph = [np.array([x[0]for x in res]),np.array([x[1]for x in res])]\n",
    "print('HNSW Time: %5.3f seconds' % (time.time()-start_time))\n",
    "\n",
    "\n",
    "error = compare_neighbor_graphs(neighbor_graph,\n",
    "                                hnsw_neighbor_graph,\n",
    "                                k)\n",
    "\n",
    "print('HNSW Accuracy: %d incorrect NN pairs (%5.3f%%)' % (error,100*error/(k*nx)))"
   ]
  },
  {
   "cell_type": "code",
   "execution_count": null,
   "metadata": {},
   "outputs": [],
   "source": []
  }
 ],
 "metadata": {
  "kernelspec": {
   "display_name": "Python 3",
   "language": "python",
   "name": "python3"
  },
  "language_info": {
   "codemirror_mode": {
    "name": "ipython",
    "version": 3
   },
   "file_extension": ".py",
   "mimetype": "text/x-python",
   "name": "python",
   "nbconvert_exporter": "python",
   "pygments_lexer": "ipython3",
   "version": "3.8.2"
  }
 },
 "nbformat": 4,
 "nbformat_minor": 4
}
